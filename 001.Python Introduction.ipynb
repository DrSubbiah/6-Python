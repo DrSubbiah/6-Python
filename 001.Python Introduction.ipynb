{
 "cells": [
  {
   "cell_type": "markdown",
   "metadata": {},
   "source": [
    "# <font color='yellow'> What is Python?\n",
    "\n",
    "\n",
    "### <font color='pink'> Introduction to Python\n",
    "\n",
    "Python is a high-level, versatile, and easy-to-learn programming language that has become a cornerstone in the fields of Data Science (DS) and Machine Learning (ML). Known for its simple and readable syntax, Python allows developers to focus on solving problems rather than dealing with complex programming constructs. It has an extensive standard library and a vibrant ecosystem of third-party packages, making it ideal for tasks ranging from data manipulation and scientific computing to machine learning and web development.\n",
    "\n",
    "Python’s popularity in Data Science and Machine Learning is largely due to its powerful libraries that provide tools for data analysis, statistical modeling, and deep learning. These libraries are designed to simplify tasks such as data cleaning, model building, and visualization, allowing users to efficiently tackle complex datasets and implement sophisticated algorithms.\n",
    "\n",
    "This brief introduction emphasizes Python's core strengths and its significance in DS/ML, leading naturally into the discussion of relevant packages.\n",
    "\n",
    "### <font color='pink'> Introduction to Python Packages\n",
    "\n",
    "In Python, **packages** are collections of modules that provide functionality for specific tasks. A package may contain multiple modules, which are simply Python files (`.py`) with functions, classes, and variables. Python's extensive standard library, as well as third-party packages, make it possible to perform complex tasks with minimal code. Popular packages like `numpy`, `pandas`, and `matplotlib` extend Python’s capabilities in areas such as scientific computing, data analysis, and visualization.\n",
    "\n",
    "---\n",
    "\n",
    "### 1. **Mathematical Computing**\n",
    "   - Python is extensively used in mathematical modeling, optimization, and symbolic computation. Common packages include:\n",
    "     - **`numpy`**: Provides support for large multi-dimensional arrays and matrices, along with a collection of mathematical functions to operate on them.\n",
    "     - **`SciPy`**: Built on `numpy`, it provides more advanced mathematical algorithms such as optimization, integration, and interpolation.\n",
    "     - **`SymPy`**: A symbolic mathematics library that allows for algebraic manipulation, solving equations, and performing calculus.\n",
    "\n",
    "### 2. **Statistical Computing**\n",
    "   - Python is highly regarded for statistical analysis, data science, and visualization. Some widely used packages include:\n",
    "     - **`pandas`**: A powerful data manipulation library for handling structured data (like tables), with support for time series data, missing data handling, and more.\n",
    "     - **`statsmodels`**: A library for statistical modeling, including regression analysis, hypothesis testing, and time-series analysis.\n",
    "     - **`scipy.stats`**: Contains statistical functions for probability distributions, statistical tests, and descriptive statistics.\n",
    "\n",
    "### 3. **Data Science and Analytics**\n",
    "   - Python is a leading language in data science, used for data manipulation, cleaning, and visualization. Some packages include:\n",
    "     - **`pandas`**: For data manipulation, cleaning, and analysis.\n",
    "     - **`matplotlib`**: A library for creating static, animated, and interactive visualizations.\n",
    "     - **`seaborn`**: Built on top of `matplotlib`, it makes creating statistical graphics easier and more aesthetically pleasing.\n",
    "\n",
    "### 4. **Artificial Intelligence and Deep Learning**\n",
    "   - Python powers the development of AI and machine learning models with popular frameworks and libraries like:\n",
    "     - **`TensorFlow`**: An open-source library for deep learning, widely used in AI research and production.\n",
    "     - **`Keras`**: A high-level neural networks API that runs on top of TensorFlow, simplifying model creation and training.\n",
    "     - **`PyTorch`**: Another deep learning framework that emphasizes flexibility and speed, often preferred in academic research.\n",
    "\n",
    "### 5. **Automation and Scripting**\n",
    "   - Python is widely used for automating repetitive tasks, such as file handling, web scraping, and system tasks. Popular packages include:\n",
    "     - **`os`**: Provides functions for interacting with the operating system, such as file operations and directory traversal.\n",
    "     - **`shutil`**: Offers a higher-level interface for file operations like copying and moving files.\n",
    "     - **`selenium`**: Automates web browsers for tasks such as web scraping and testing web applications.\n",
    "\n",
    "### 6. **Game Development**\n",
    "   - Python can be used to create games and interactive applications. Common packages include:\n",
    "     - **`Pygame`**: A set of Python modules designed for writing video games, providing functionalities for graphics, sound, and event handling.\n",
    "\n",
    "### 7. **Desktop GUI Applications**\n",
    "   - Python enables the creation of desktop applications with graphical user interfaces (GUIs). Some popular packages are:\n",
    "     - **`Tkinter`**: The standard Python interface to the Tk GUI toolkit, useful for building simple desktop applications.\n",
    "     - **`PyQt`**: A set of Python bindings for the Qt toolkit, allowing for more advanced, cross-platform applications.\n",
    "\n",
    "### 8. **Networking**\n",
    "   - Python is used for network programming, building both servers and clients. Key packages include:\n",
    "     - **`socket`**: A core module for low-level networking interfaces, such as creating network servers and clients.\n",
    "     - **`asyncio`**: A library for writing asynchronous code, useful for handling I/O-bound tasks like networking.\n",
    "\n",
    "### 9. **Cybersecurity and Ethical Hacking**\n",
    "   - Python is often used in penetration testing and security automation. Some packages include:\n",
    "     - **`Scapy`**: A powerful interactive packet manipulation program used for network analysis and testing.\n",
    "     - **`requests`**: A simple HTTP library for interacting with web services and APIs, useful for web scraping and security testing.\n",
    "\n",
    "### 10. **Scientific and Numeric Computing**\n",
    "   - Python is widely used in scientific research for simulations and data analysis. Popular packages include:\n",
    "     - **`SciPy`**: For advanced mathematical and scientific computing, including numerical integration and optimization.\n",
    "     - **`matplotlib`**: For creating static, animated, and interactive plots for scientific data.\n",
    "     - **`SymPy`**: For symbolic mathematics, including algebraic manipulations and calculus.\n",
    "\n",
    "### 11. **Internet of Things (IoT)**\n",
    "   - Python is commonly used to program IoT devices, especially with hardware like Raspberry Pi. Useful packages include:\n",
    "     - **`RPi.GPIO`**: A library for controlling the GPIO pins of Raspberry Pi, useful for building hardware-based projects.\n",
    "     - **`MicroPython`**: A lightweight Python implementation for microcontrollers, making it easier to work with small embedded systems.\n",
    "\n",
    "### 12. **Cloud Computing**\n",
    "   - Python is frequently used for cloud application development. Key packages include:\n",
    "     - **`boto3`**: The Amazon Web Services (AWS) SDK for Python, used for interacting with AWS services.\n",
    "     - **`google-cloud`**: A collection of libraries for interacting with Google Cloud services.\n",
    "\n",
    "### 13. **Blockchain Development**\n",
    "   - Python is also used in the development of blockchain-based applications. Some relevant packages include:\n",
    "     - **`pyethereum`**: A Python library for working with the Ethereum blockchain.\n",
    "     - **`web3.py`**: A Python library for interacting with Ethereum, including smart contract deployment and transaction processing.\n",
    "\n",
    "### 14. **Natural Language Processing (NLP)**\n",
    "   - Python has a strong presence in NLP, with libraries for text analysis and processing:\n",
    "     - **`NLTK`**: A toolkit for working with human language data, providing tools for tokenization, parsing, and sentiment analysis.\n",
    "     - **`spaCy`**: A fast, production-ready library for advanced NLP tasks like named entity recognition (NER) and part-of-speech tagging.\n",
    "\n",
    "### 15. **Education**\n",
    "   - Python is an excellent language for teaching programming, due to its simplicity and readability.\n",
    "\n",
    "### 16. **Web Scraping**\n",
    "   - Python is often used for web scraping, extracting data from websites. Popular packages include:\n",
    "     - **`BeautifulSoup`**: A library for parsing HTML and XML documents, making it easy to scrape and manipulate web data.\n",
    "     - **`Scrapy`**: A powerful web crawling and scraping framework.\n",
    "\n",
    "### 17. **DevOps and Infrastructure Automation**\n",
    "   - Python plays a major role in DevOps, automating infrastructure and deployment tasks. Some packages include:\n",
    "     - **`Ansible`**: A powerful automation tool for configuration management and deployment.\n",
    "     - **`Fabric`**: A library for automating SSH-based tasks like server setup and deployment.\n",
    "\n",
    "### 18. **Finance and FinTech**\n",
    "   - Python is widely used in financial applications, including quantitative analysis and algorithmic trading. Relevant packages include:\n",
    "     - **`QuantLib`**: A library for quantitative finance, including pricing derivatives and managing financial portfolios.\n",
    "     - **`zipline`**: A backtesting library for algorithmic trading strategies.\n",
    "\n",
    "### 19. **Audio and Video Processing**\n",
    "   - Python is used in media processing for tasks like audio manipulation and video editing. Key packages include:\n",
    "     - **`moviepy`**: A library for video editing and manipulation, including video cuts, merging, and audio extraction.\n",
    "     - **`pydub`**: A package for audio manipulation, allowing you to work with sound files (e.g., cutting, concatenating, and applying effects).\n",
    "\n",
    "### 20. **Robotics**\n",
    "   - Python is used for programming robotic systems. Popular libraries include:\n",
    "     - **`ROS` (Robot Operating System)**: A framework for developing robotic applications, with Python bindings for controlling robots.\n",
    "\n",
    "### 21. **Visualization and Virtual Reality**\n",
    "   - Python enables the development of virtual reality and data visualization applications. Key packages include:\n",
    "     - **`Pygame`**: For creating 2D games and interactive applications.\n",
    "     - **`PyOpenGL`**: A library for 3D graphics programming.\n",
    "\n",
    "### 22. **Web APIs and RESTful Services**\n",
    "   - Python is used for creating and consuming web APIs, often with frameworks like:\n",
    "     - **`Flask`**: A lightweight web framework for building RESTful APIs.\n",
    "     - **`Django`**: A full-stack web framework that also supports building APIs."
   ]
  },
  {
   "cell_type": "markdown",
   "metadata": {},
   "source": [
    "### <font color='pink'> Python - Variable Names\n",
    "\n",
    "Variables are containers for storing data values.\n",
    "\n",
    "Python has no command for declaring a variable.\n",
    "\n",
    "A variable is created the moment you first assign a value to it.\n",
    "\n",
    "A variable can have a short name (like x and y) or a more descriptive name (age, carname, total_volume).\n",
    "\n",
    "Rules for Python variables:\n",
    "    \n",
    "A variable name must start with a letter or the underscore character\n",
    "\n",
    "A variable name cannot start with a number\n",
    "\n",
    "A variable name can only contain alpha-numeric characters and underscores (A-z, 0-9, and _ )\n",
    "\n",
    "Variable names are case-sensitive (age, Age and AGE are three different variables)\n",
    "\n",
    "### <font color='pink'> Legal variable names:\n",
    "\n",
    "myvar = \"Siva\"\n",
    "\n",
    "my_var = \"Siva\"\n",
    "\n",
    "_my_var = \"Siva\"\n",
    "\n",
    "myVar = \"Siva\"\n",
    "\n",
    "MYVAR = \"Siva\"\n",
    "\n",
    "myvar2 = \"Siva\"\n",
    "\n",
    "\n",
    "### <font color='pink'> Illegal variable names:\n",
    "\n",
    "2myvar = \"Siva\"\n",
    "\n",
    "my-var = \"Siva\"\n",
    "\n",
    "my var = \"Siva\""
   ]
  },
  {
   "cell_type": "markdown",
   "metadata": {},
   "source": [
    "### <font color='pink'> Python Variables **Simple Example:**"
   ]
  },
  {
   "cell_type": "code",
   "execution_count": null,
   "metadata": {},
   "outputs": [],
   "source": [
    "x = 5\n",
    "y = \"Siva\"\n",
    "print(x)\n",
    "print(y)"
   ]
  },
  {
   "cell_type": "markdown",
   "metadata": {},
   "source": [
    "**Variables do not need to be declared with any particular type, and can even change type after they have been set. We can get the data type of a variable with the type() function**"
   ]
  },
  {
   "cell_type": "code",
   "execution_count": null,
   "metadata": {},
   "outputs": [],
   "source": [
    "x = 4       # x is of type int\n",
    "x = \"Sita\" # x is now of type str\n",
    "print(x)"
   ]
  },
  {
   "cell_type": "code",
   "execution_count": null,
   "metadata": {},
   "outputs": [],
   "source": [
    "x = 5\n",
    "y = \"Siva\"\n",
    "print(type(x))\n",
    "print(type(y))"
   ]
  },
  {
   "cell_type": "markdown",
   "metadata": {},
   "source": [
    "### <font color='pink'> Casting\n",
    "\n",
    "If you want to specify the data type of a variable, this can be done with casting."
   ]
  },
  {
   "cell_type": "code",
   "execution_count": null,
   "metadata": {},
   "outputs": [],
   "source": [
    "x = str(3)    # x will be '3'\n",
    "y = int(3)    # y will be 3\n",
    "z = float(3)  # z will be 3.0"
   ]
  },
  {
   "cell_type": "markdown",
   "metadata": {},
   "source": [
    "### <font color='pink'> String variables can be declared either by using single or double quotes:\n",
    "\n",
    "`x = \"Siva\"` is the same as `x = 'Siva'`\n",
    "\n",
    "### <font color='pink'> **Variable names are case-sensitive.**\n",
    "This will create two variables:\n",
    "\n",
    "\n",
    "a = 4\n",
    "\n",
    "A = \"Sita\"\n",
    "\n",
    "#A will not overwrite a"
   ]
  },
  {
   "cell_type": "markdown",
   "metadata": {},
   "source": [
    "### <font color='pink'> Python Variables - Assign Multiple Values\n",
    "\n",
    "Python allows assigning values to multiple variables in one line:"
   ]
  },
  {
   "cell_type": "code",
   "execution_count": null,
   "metadata": {},
   "outputs": [],
   "source": [
    "x, y, z = \"Orange\", \"Banana\", \"Cherry\"\n",
    "print(x)\n",
    "print(y)\n",
    "print(z)"
   ]
  },
  {
   "cell_type": "markdown",
   "metadata": {},
   "source": [
    "**One Value to Multiple Variables: Assign the same value to multiple variables in one line**"
   ]
  },
  {
   "cell_type": "code",
   "execution_count": null,
   "metadata": {},
   "outputs": [],
   "source": [
    "x = y = z = \"banana\"\n",
    "print(x)\n",
    "print(y)\n",
    "print(z)"
   ]
  },
  {
   "cell_type": "markdown",
   "metadata": {},
   "source": [
    "### <font color='pink'> Python - Output Variables\n",
    "\n",
    "The Python print statement is often used to output variables.\n",
    "\n",
    "To combine both text and a variable, Python uses the + character\n",
    "\n",
    "Also use the + character to add a variable to another variable.\n",
    "\n",
    "For numbers, the + character works as a mathematical operator.\n",
    "    \n",
    "If you try to combine a string and a number, Python will give you an error."
   ]
  },
  {
   "cell_type": "markdown",
   "metadata": {},
   "source": [
    "## <font color='orange'> **Commenting**\n",
    "\n",
    "While writing code it is always better to comment about the action we are doing at respective places, for this we can use  **##** at the beginning of the comment  which we wish to note in the code. Whatever typed after the double hash tag is considered as comment (Even python functions). \n",
    "\n",
    "Use triple quotes (''' or \"\"\") for multi-line comments"
   ]
  },
  {
   "cell_type": "code",
   "execution_count": null,
   "metadata": {},
   "outputs": [],
   "source": [
    "#Assign a value to a variable\n",
    "x = \"awesome\"\n",
    "print(\"Python is \" + x)"
   ]
  },
  {
   "cell_type": "code",
   "execution_count": null,
   "metadata": {},
   "outputs": [],
   "source": [
    "'''x = \"Python is \"\n",
    "y = \"a language\"\n",
    "z =  x + y\n",
    "print(z)'''\n",
    "\n",
    "x = \"Python is \"\n",
    "y = \"awesome\"\n",
    "z =  x + y\n",
    "print(z)"
   ]
  },
  {
   "cell_type": "markdown",
   "metadata": {},
   "source": [
    "### <font color='pink'> Arithmetic / Logical Operations"
   ]
  },
  {
   "cell_type": "code",
   "execution_count": null,
   "metadata": {},
   "outputs": [],
   "source": [
    "d1 =5\n",
    "d2 = 28\n",
    "d3 = 2\n",
    "d4 = 0\n",
    "d5 = -1.5\n",
    "print(\"addition: \", d1 + d3) #addtion\n",
    "print(\"multiplication: \",d1*d2)  #multiplication\n",
    "print(\"substraction: \",d2-d5)  #substraction\n",
    "print(\"division: \",d2/d5)  #division\n",
    "\n",
    "print(\"exponentiation: \",d1**2) #exponentiation\n",
    "print(\"exponentiation: \",d2**d4)\n",
    "print(\"exponentiation: \",d2**d1)\n",
    "\n",
    "print(\"modulo: \",d2%d1) #modulo\n",
    "print(\"Floor Division: \", d2//d1)  #Floor Division\n",
    "\n",
    "#more eg\n",
    "print(\"compund Arithmetic: \",d2 + d1/d3)\n",
    "print(\"compund Arithmetic: \",d2 + (d1/d3))\n",
    "print(\"compund Arithmetic: \", (d2 + d1)/d3)"
   ]
  },
  {
   "cell_type": "code",
   "execution_count": null,
   "metadata": {},
   "outputs": [],
   "source": [
    "#zero-division\n",
    "#print(d2/d4)  #division"
   ]
  },
  {
   "cell_type": "code",
   "execution_count": null,
   "metadata": {},
   "outputs": [],
   "source": [
    "#Logical comparisons\n",
    "print(d1 < d3)\n",
    "print(d2 + d1 >= d3)\n",
    "print((d2 + d1)/d3 == 0)\n",
    "print(d2**d3 != 1)\n",
    "print(d2**d4 <= 1) "
   ]
  },
  {
   "cell_type": "code",
   "execution_count": null,
   "metadata": {
    "scrolled": true
   },
   "outputs": [],
   "source": [
    "#Logical comparisons\n",
    "x = 15\n",
    "y = 4\n",
    "print(x<3 or y <=2)\n",
    "print(x<3 and y <=4)\n",
    "print(x>3 or y <=2)\n",
    "print(not x < 15 and y == 8/2)"
   ]
  },
  {
   "cell_type": "code",
   "execution_count": null,
   "metadata": {},
   "outputs": [],
   "source": [
    "a = 10\n",
    "b = 20\n",
    "print(a<b)\n",
    "print(a<=b)\n",
    "print(a>b)\n",
    "print(a>=b)\n",
    "print(a==b)\n",
    "print(a!=b)\n"
   ]
  },
  {
   "cell_type": "code",
   "execution_count": null,
   "metadata": {},
   "outputs": [],
   "source": [
    "#Logical comparisons with strings\n",
    "a = \"Bot\"\n",
    "b = \"Bot\"\n",
    "print(a<b)\n",
    "print(a<=b)\n",
    "print(a>b)\n",
    "print(a>=b)\n",
    "print(a==b)\n",
    "print(a!=b)"
   ]
  },
  {
   "cell_type": "code",
   "execution_count": null,
   "metadata": {},
   "outputs": [],
   "source": [
    "#print options\n",
    "a=2.1234567\n",
    "print(\"value of a is %d\" %(a))"
   ]
  },
  {
   "cell_type": "code",
   "execution_count": null,
   "metadata": {},
   "outputs": [],
   "source": [
    "a=2.1234567\n",
    "b=19\n",
    "string1 = \"boss\"\n",
    "print(\"value of a is %d value of b is %d, string is %s\"%(a,b,string1))"
   ]
  },
  {
   "cell_type": "markdown",
   "metadata": {},
   "source": [
    "### <font color='pink'> Strings"
   ]
  },
  {
   "cell_type": "code",
   "execution_count": null,
   "metadata": {},
   "outputs": [],
   "source": [
    "a_2 = 'Om Shaantih Shaantih Shaantih'\n",
    "\n",
    "print(a_2)          \n",
    "print(a_2[4])       \n",
    "print(a_2[2:5]) #2,3,4\n",
    "print(a_2[0:7]) #0,1,..6\n",
    "print(a_2[2:])      \n",
    "print(a_2 * 2)     # Repeat \n",
    "print(a_2 + \" GOD\") #Concatenation"
   ]
  },
  {
   "cell_type": "code",
   "execution_count": null,
   "metadata": {},
   "outputs": [],
   "source": [
    "str2 = \"6\"\n",
    "str2.isdigit()"
   ]
  },
  {
   "cell_type": "code",
   "execution_count": null,
   "metadata": {},
   "outputs": [],
   "source": [
    "str3 = \"job\"\n",
    "str3.isdigit()"
   ]
  },
  {
   "cell_type": "code",
   "execution_count": null,
   "metadata": {},
   "outputs": [],
   "source": [
    "a_2.split(' ')"
   ]
  },
  {
   "cell_type": "code",
   "execution_count": null,
   "metadata": {},
   "outputs": [],
   "source": [
    "a_2.split('n')"
   ]
  },
  {
   "cell_type": "code",
   "execution_count": null,
   "metadata": {},
   "outputs": [],
   "source": [
    "str1 = input(\"\\n\\nEnter the details\")\n",
    "print(str1)"
   ]
  },
  {
   "cell_type": "markdown",
   "metadata": {},
   "source": [
    "## <font color='orange'> Python Objects\n",
    "There are four collection data types in the Python programming language:\n",
    "\n",
    "List - a collection which is ordered and changeable. Allows duplicate members.\n",
    "\n",
    "Tuple - a collection which is ordered and unchangeable. Allows duplicate members.\n",
    "\n",
    "Set - a collection which is unordered and unindexed. No duplicate members.\n",
    "\n",
    "Dictionary - a collection which is ordered and changeable."
   ]
  },
  {
   "cell_type": "markdown",
   "metadata": {},
   "source": [
    "## <font color='orange'> Indexing in Python\n",
    "For data types which hold multiple values such as list,tuple and also for strings we can access elements using index which refers to its position in the variable. In python indexing starts from 0. We can access any element in the the above mentioned data types using square brackets **[ ]**"
   ]
  },
  {
   "cell_type": "code",
   "execution_count": null,
   "metadata": {},
   "outputs": [],
   "source": [
    "name=\"Banana\"\n",
    "name[0]"
   ]
  },
  {
   "cell_type": "markdown",
   "metadata": {},
   "source": [
    "## <font color='orange'> Lists\n",
    "\n",
    "Lists are used to store multiple items in a single variable.\n",
    "\n",
    "The most versatile data type is the list, which can be written as a list of comma-separated values (items) between square brackets **[ ]**. \n",
    "\n",
    "Lists might contain items of different types, but usually the items all have the same type. The values in a list are called elements or sometimes items. \n",
    "\n",
    "They have specific order in which we store them. \n",
    "\n",
    "This order is preserved as index. A list is mutable, which means the values in a list can be modified and new values can be easily added to the list\n",
    "\n",
    "\n",
    "1. List items are ordered (i.e the items have a defined order, and that order will not change.), changeable, and allow duplicate values.\n",
    "\n",
    "1. List items are indexed, the first item has index [0], the second item has index [1] etc.\n",
    "\n",
    "1. If we add new items to a list, the new items will be placed at the end of the list.\n",
    "\n",
    "1. The list items are changeable, meaning that we can modify or remove items in a list after it has been created.\n",
    "\n",
    "1. Allow Duplicates, Since lists are indexed, lists can have items with the same value:"
   ]
  },
  {
   "cell_type": "code",
   "execution_count": null,
   "metadata": {},
   "outputs": [],
   "source": [
    "L1 = [\"qwerty\", 581, 2.21, \"avan\", 70.3 ]\n",
    "type(L1)"
   ]
  },
  {
   "cell_type": "code",
   "execution_count": null,
   "metadata": {},
   "outputs": [],
   "source": [
    "#To determine how many items a list has, use the len( ) function\n",
    "Shop=[\"Electronic\",\"Stationary\",'123',\"art\",\"Stationary\"]\n",
    "print(len(Shop))"
   ]
  },
  {
   "cell_type": "markdown",
   "metadata": {},
   "source": [
    "### <font color='pink'> Access Items\n",
    "\n",
    "List items are indexed and you can access them by referring to the index number:\n",
    "\n",
    "Print the second item of the list:"
   ]
  },
  {
   "cell_type": "code",
   "execution_count": null,
   "metadata": {},
   "outputs": [],
   "source": [
    "Items=[\"Remote\",\"8_Batteries\",\"Notepad\",\"Marker\",\"Bluetooth Speakers\"]\n",
    "print(Items[1])"
   ]
  },
  {
   "cell_type": "markdown",
   "metadata": {},
   "source": [
    "### <font color='pink'> Change Item Value\n",
    "\n",
    "To change the value of a specific item, refer to the index number:\n",
    "\n",
    "Change the second item:"
   ]
  },
  {
   "cell_type": "code",
   "execution_count": null,
   "metadata": {},
   "outputs": [],
   "source": [
    "Items=[\"Remote\",\"8_Batteries\",\"Notepad\",\"Marker\",\"Bluetooth Speakers\"]\n",
    "Items[1] = \"blackcurrant\"\n",
    "print(Items)"
   ]
  },
  {
   "cell_type": "markdown",
   "metadata": {},
   "source": [
    "### <font color='pink'> Change a Range of Item Values\n",
    "\n",
    "To change the value of items within a specific range, define a list with the new values, and refer to the range of index numbers where you want to insert the new values:\n",
    "\n",
    "Change the values \"banana\" and \"cherry\" with the values \"blackcurrant\" and \"watermelon\":"
   ]
  },
  {
   "cell_type": "code",
   "execution_count": null,
   "metadata": {},
   "outputs": [],
   "source": [
    "fruits = [\"apple\", \"banana\", \"cherry\", \"orange\", \"kiwi\", \"mango\"]\n",
    "fruits[1:3] = [\"blackcurrant\", \"watermelon\"]\n",
    "print(fruits)"
   ]
  },
  {
   "cell_type": "markdown",
   "metadata": {},
   "source": [
    "### <font color='pink'> Append Items\n",
    "\n",
    "To add an item to the end of the list, use the **append()** method:\n",
    "\n",
    "Using the append() method to append an item:"
   ]
  },
  {
   "cell_type": "code",
   "execution_count": null,
   "metadata": {},
   "outputs": [],
   "source": [
    "fruits = [\"apple\", \"banana\", \"cherry\"]\n",
    "print(fruits)\n",
    "fruits.append(\"orange\")\n",
    "print(fruits)"
   ]
  },
  {
   "cell_type": "markdown",
   "metadata": {},
   "source": [
    "### <font color='pink'> To insert a list item at a specified index, use the insert() method.\n",
    "\n",
    "The **insert()** method inserts an item at the specified index:\n",
    "\n",
    "Insert an item as the second position:"
   ]
  },
  {
   "cell_type": "code",
   "execution_count": null,
   "metadata": {},
   "outputs": [],
   "source": [
    "fruits = [\"apple\", \"banana\", \"cherry\"]\n",
    "fruits.insert(1, \"orange\")\n",
    "print(fruits)"
   ]
  },
  {
   "cell_type": "markdown",
   "metadata": {},
   "source": [
    "### <font color='pink'> Remove Specified Item\n",
    "\n",
    "The **remove()** method removes the specified item.\n",
    "\n",
    "Remove \"banana\":\n",
    "\n",
    "The **del** keyword can also delete the list completely."
   ]
  },
  {
   "cell_type": "code",
   "execution_count": null,
   "metadata": {},
   "outputs": [],
   "source": [
    "thislist = [\"apple\", \"banana\", \"cherry\"]\n",
    "thislist.remove(\"banana\")\n",
    "print(thislist)"
   ]
  },
  {
   "cell_type": "code",
   "execution_count": null,
   "metadata": {},
   "outputs": [],
   "source": [
    "thislist = [\"apple\", \"banana\", \"cherry\"]\n",
    "del thislist"
   ]
  },
  {
   "cell_type": "markdown",
   "metadata": {},
   "source": [
    "## <font color='orange'> Python - Loop Lists\n",
    "\n",
    "loop through the list items by using a for loop:\n",
    "\n",
    "Print all items in the list, one by one:"
   ]
  },
  {
   "cell_type": "code",
   "execution_count": null,
   "metadata": {},
   "outputs": [],
   "source": [
    "thislist = [\"apple\", \"banana\", \"cherry\"]\n",
    "for x in thislist:\n",
    "  print(x)"
   ]
  },
  {
   "cell_type": "code",
   "execution_count": null,
   "metadata": {},
   "outputs": [],
   "source": [
    "thislist = [\"apple\", \"banana\", \"cherry\"]\n",
    "i = 0\n",
    "while i < len(thislist):\n",
    "  print(thislist[i])\n",
    "  i = i + 1"
   ]
  },
  {
   "cell_type": "code",
   "execution_count": null,
   "metadata": {
    "scrolled": true
   },
   "outputs": [],
   "source": [
    "L2=(\"plm\", \"ojn\")\n",
    "L3=[9182,4750]\n",
    "print([x + 2 for x in L3])"
   ]
  },
  {
   "cell_type": "code",
   "execution_count": null,
   "metadata": {},
   "outputs": [],
   "source": [
    "print(L2)"
   ]
  },
  {
   "cell_type": "code",
   "execution_count": null,
   "metadata": {},
   "outputs": [],
   "source": [
    "del(L1[0])\n",
    "L1"
   ]
  },
  {
   "cell_type": "code",
   "execution_count": null,
   "metadata": {},
   "outputs": [],
   "source": [
    "L1 = [\"qwerty\", 581, 2.21, \"avan\", 70.3 ]\n",
    "L1.remove(2.21)\n",
    "print(L1)\n",
    "L1.remove(\"avan\")\n",
    "print(L1)"
   ]
  },
  {
   "cell_type": "code",
   "execution_count": null,
   "metadata": {},
   "outputs": [],
   "source": [
    "#Case sensitive\n",
    "l1 = [67,4,90]\n",
    "print(l1)\n",
    "print(L1)"
   ]
  },
  {
   "cell_type": "code",
   "execution_count": null,
   "metadata": {},
   "outputs": [],
   "source": [
    "l1.insert(0,23) #uses the index to insert\n",
    "l1"
   ]
  },
  {
   "cell_type": "markdown",
   "metadata": {},
   "source": [
    "### <font color='pink'> Python - Sort Lists\n",
    "\n",
    "Sort List Alphanumerically\n",
    "\n",
    "List objects have a sort() method that will sort the list alphanumerically, ascending, by default:\n",
    "\n",
    "To sort descending, use the keyword argument reverse = True:"
   ]
  },
  {
   "cell_type": "code",
   "execution_count": null,
   "metadata": {},
   "outputs": [],
   "source": [
    "thislist = [\"orange\", \"mango\", \"kiwi\", \"pineapple\", \"banana\"]\n",
    "thislist.sort()\n",
    "print(thislist)"
   ]
  },
  {
   "cell_type": "code",
   "execution_count": null,
   "metadata": {},
   "outputs": [],
   "source": [
    "thislist = [100, 50, 65, 82, 23]\n",
    "thislist.sort(reverse = True)\n",
    "print(thislist)"
   ]
  },
  {
   "cell_type": "code",
   "execution_count": null,
   "metadata": {},
   "outputs": [],
   "source": [
    "thislist[0:8:2]"
   ]
  },
  {
   "cell_type": "markdown",
   "metadata": {},
   "source": [
    "### <font color='pink'>Copy a List\n",
    "\n",
    "It is not possible to copy a list simply by typing list2 = list1, because: list2 will only be a reference to list1, and changes made in list1 will automatically also be made in list2.\n",
    "\n",
    "There are ways to make a copy, one way is to use the built-in List method copy().\n",
    "\n",
    "Make a copy of a list with the copy() method: this method creates the new list and keep it unaffected by the changes we perform in the original list except the changes in the nested list (list which is member of original list)."
   ]
  },
  {
   "cell_type": "code",
   "execution_count": null,
   "metadata": {},
   "outputs": [],
   "source": [
    "fruit = [\"apple\", \"banana\", \"cherry\"]\n",
    "juice = fruit.copy()\n",
    "fruit.append(\"kiwi\")\n",
    "print(fruit)\n",
    "print(juice)"
   ]
  },
  {
   "cell_type": "markdown",
   "metadata": {},
   "source": [
    "### <font color='pink'> Adding new list to original one   \n",
    "We can add all the elements of the new list at the end of original list using **extend()** method "
   ]
  },
  {
   "cell_type": "code",
   "execution_count": null,
   "metadata": {},
   "outputs": [],
   "source": [
    "marvel1=[['Dr.Strange','Ironman'],'Captain America','Spiderman','Hulk']\n",
    "marvel1.extend(fruit)\n",
    "print(marvel1)\n",
    "print(len(marvel1))\n",
    "print(marvel1[0])\n",
    "print(len(marvel1[0]))\n",
    "print(len(marvel1[4]))\n",
    "print(len(marvel1[1]))"
   ]
  },
  {
   "cell_type": "markdown",
   "metadata": {},
   "source": [
    "### <font color='pink'> Finding Index   \n",
    "We can find position of an element in a list using index method. If the value is present more than once in the list, then first occurence position is returned."
   ]
  },
  {
   "cell_type": "code",
   "execution_count": null,
   "metadata": {},
   "outputs": [],
   "source": [
    "marvel1.index(\"Captain America\")"
   ]
  },
  {
   "cell_type": "markdown",
   "metadata": {},
   "source": [
    "### <font color='pink'> Counting occurence of an element in a list   \n",
    "We can count number of times an element is present in a list using **count()** method, we need to give the element as the input for the function."
   ]
  },
  {
   "cell_type": "code",
   "execution_count": null,
   "metadata": {},
   "outputs": [],
   "source": [
    "marvel1*2"
   ]
  },
  {
   "cell_type": "markdown",
   "metadata": {},
   "source": [
    "### <font color='pink'> Join Lists\n",
    "\n",
    "Join Two (or more) Lists\n",
    "\n",
    "There are several ways to join, or concatenate, two or more lists in Python.\n",
    "\n",
    "One of the easiest ways are by using the + operator.\n"
   ]
  },
  {
   "cell_type": "code",
   "execution_count": null,
   "metadata": {},
   "outputs": [],
   "source": [
    "list1 = [\"a\", \"b\", \"c\"]\n",
    "list2 = [1, 2, 3]\n",
    "\n",
    "list3 = list1 + list2\n",
    "print(list3)"
   ]
  },
  {
   "cell_type": "markdown",
   "metadata": {},
   "source": [
    "### <font color='pink'> Range\n",
    "It is posible to create of sequence of numerical (integer only) values. We can use it for purpose of iteration and also we can convert the variable to another type in Python. \n",
    "\n",
    "Use **range(end_value)** where default start value is **0** or **range(start_value,end_value)** or **range(start_value,end_value,increment)**"
   ]
  },
  {
   "cell_type": "code",
   "execution_count": 1,
   "metadata": {},
   "outputs": [
    {
     "name": "stdout",
     "output_type": "stream",
     "text": [
      "<class 'list'>\n",
      "[0, 1, 2, 3, 4, 5, 6, 7, 8, 9]\n"
     ]
    }
   ],
   "source": [
    "sample_1=list(range(10))\n",
    "\n",
    "print(type(sample_1))\n",
    "\n",
    "print(sample_1)"
   ]
  },
  {
   "cell_type": "code",
   "execution_count": 2,
   "metadata": {},
   "outputs": [
    {
     "name": "stdout",
     "output_type": "stream",
     "text": [
      "<class 'list'>\n",
      "[1, 2, 3, 4, 5, 6, 7, 8, 9]\n"
     ]
    }
   ],
   "source": [
    "sample_2=list(range(1,10))\n",
    "\n",
    "print(type(sample_2))\n",
    "\n",
    "print(sample_2)"
   ]
  },
  {
   "cell_type": "code",
   "execution_count": 4,
   "metadata": {},
   "outputs": [
    {
     "name": "stdout",
     "output_type": "stream",
     "text": [
      "<class 'list'>\n",
      "[1, 5, 9]\n"
     ]
    }
   ],
   "source": [
    "sample_3=list(range(1,10,4))\n",
    "\n",
    "print(type(sample_3))\n",
    "\n",
    "print(sample_3)"
   ]
  },
  {
   "cell_type": "markdown",
   "metadata": {},
   "source": [
    "## <font color='orange'> Tuple"
   ]
  },
  {
   "cell_type": "markdown",
   "metadata": {},
   "source": [
    "<font color='pink'> Lists are enclosed in brackets ( [ ] ) and their elements and size can be changed\n",
    "\n",
    "<font color='pink'> Tuples are enclosed in parentheses ( ( ) ) and cannot be updated. Tuples can be thought of as read-only lists.\n",
    "\n",
    "Iterate-use tuple\n",
    "\n",
    "Modifly-use list"
   ]
  },
  {
   "cell_type": "code",
   "execution_count": null,
   "metadata": {},
   "outputs": [],
   "source": [
    "tt1 = ( 'abcd', 786 , 2.23, 'john', 70.2  )\n",
    "type(tt1)"
   ]
  },
  {
   "cell_type": "code",
   "execution_count": null,
   "metadata": {},
   "outputs": [],
   "source": [
    "tinytuple = (123, 'john')\n",
    "\n",
    "print(tt1)           # Prints complete list\n",
    "print(tt1[0])        # Prints first element of the list\n",
    "print(tt1[1:3])      # Prints elements starting from 2nd till 3rd \n",
    "print(tt1[2:])       # Prints elements starting from 3rd element\n",
    "print(tinytuple * 2)   # Prints list two times\n",
    "print(tt1 + tinytuple) # Prints concatenated lists"
   ]
  },
  {
   "cell_type": "code",
   "execution_count": null,
   "metadata": {},
   "outputs": [],
   "source": [
    "c = ['1','2','3']\n",
    "c[0] = 'a'\n",
    "print(c)\n",
    "tuple(range(5,10,1))\n",
    "x=range(5,10,2)\n",
    "print(list(x))"
   ]
  },
  {
   "cell_type": "code",
   "execution_count": null,
   "metadata": {},
   "outputs": [],
   "source": [
    "d0 = {'xyz':\"qwerty\", 'tt':70.3}\n",
    "d1 = {'xyz':[\"qwerty\", 'edc', \"avan\"], 'tt':[70.3,99,555,0,-5,1.5],50:[22,222,2222]}\n",
    "print(d0)\n",
    "print(d1)\n",
    "print(d1[50])\n",
    "print (d1.keys())\n",
    "print (d1.values())"
   ]
  },
  {
   "cell_type": "code",
   "execution_count": null,
   "metadata": {},
   "outputs": [],
   "source": [
    "d1 = {'xyz':[\"qwerty\", 'edc', \"avan\"], 'tt':[70.3,99,555,0,-5,1.5],50:[22,222,2222]}\n",
    "\n",
    "t1 = (\"qwerty\", 581, 2.21, \"avan\", 70.3 )\n",
    "t2 = (\"qwerty\", 581, 2.21,  70.3,\"avan\" )\n",
    "\n",
    "\n",
    "print(t1 is t2)\n",
    "print(t1 is not t2)"
   ]
  },
  {
   "cell_type": "code",
   "execution_count": null,
   "metadata": {},
   "outputs": [],
   "source": [
    "word = 'word'\n",
    "sentence = \"This is a sentence.\"\n",
    "paragraph = \"This is a paragraph. It is made up of multiple lines and sentences\"\n",
    "\n",
    "print(word)\n",
    "print(sentence)\n",
    "print(paragraph)"
   ]
  },
  {
   "cell_type": "markdown",
   "metadata": {},
   "source": [
    "## <font color='orange'> Dictionary"
   ]
  },
  {
   "cell_type": "code",
   "execution_count": 8,
   "metadata": {},
   "outputs": [
    {
     "name": "stdout",
     "output_type": "stream",
     "text": [
      "This is one\n",
      "This is two\n",
      "{'name': 'john', 'code': 6734, 'dept': 'sales'}\n",
      "dict_keys(['name', 'code', 'dept'])\n",
      "dict_values(['john', 6734, 'sales'])\n"
     ]
    }
   ],
   "source": [
    "dict_1 = {}\n",
    "dict_1['one'] = \"This is one\"\n",
    "dict_1[2]     = \"This is two\"\n",
    "\n",
    "tinydict = {'name': 'john','code':6734, 'dept': 'sales'}\n",
    "\n",
    "\n",
    "print (dict_1['one'])       # Prints value for 'one' key\n",
    "print (dict_1[2])           # Prints value for 2 key\n",
    "print (tinydict)          # Prints complete dictionary\n",
    "print (tinydict.keys())   # Prints all the keys\n",
    "print (tinydict.values()) # Prints all the values"
   ]
  },
  {
   "cell_type": "code",
   "execution_count": null,
   "metadata": {},
   "outputs": [],
   "source": [
    "list(tinydict)"
   ]
  },
  {
   "cell_type": "code",
   "execution_count": 9,
   "metadata": {},
   "outputs": [
    {
     "data": {
      "text/plain": [
       "dict"
      ]
     },
     "execution_count": 9,
     "metadata": {},
     "output_type": "execute_result"
    }
   ],
   "source": [
    "type(dict_1)"
   ]
  },
  {
   "cell_type": "code",
   "execution_count": null,
   "metadata": {},
   "outputs": [],
   "source": [
    "dict1 = {\"name\":\"TV\",\"value\":100}\n",
    "print(dict1)\n",
    "list2=list(dict1.keys())\n",
    "print((list2))\n",
    "for key in list2:\n",
    "    print(\"value is \", dict1[key])"
   ]
  },
  {
   "cell_type": "code",
   "execution_count": null,
   "metadata": {},
   "outputs": [],
   "source": [
    "myl = [1,2,3,4,5]\n",
    "mydic = dict((x,0)for x in myl)\n",
    "mydic"
   ]
  },
  {
   "cell_type": "code",
   "execution_count": null,
   "metadata": {},
   "outputs": [],
   "source": [
    "dic1  = {1:10,2:20}\n",
    "dic2 = {1:30,4:40}\n",
    "dic1.update(dic2)\n",
    "dic1"
   ]
  },
  {
   "cell_type": "code",
   "execution_count": null,
   "metadata": {},
   "outputs": [],
   "source": [
    "type(list1)"
   ]
  },
  {
   "cell_type": "code",
   "execution_count": null,
   "metadata": {},
   "outputs": [],
   "source": [
    "a = 50\n",
    "type(a)"
   ]
  },
  {
   "cell_type": "code",
   "execution_count": null,
   "metadata": {},
   "outputs": [],
   "source": [
    "b = 6.8\n",
    "type(b)"
   ]
  },
  {
   "cell_type": "markdown",
   "metadata": {},
   "source": [
    "##  <font color='orange'> Loops for Sequential actions and Conditonal Statements \n",
    "\n",
    "Programming requires controlling the flow from one part of the program to another. Flow control occurs through the use of loops, conditional statements and branching, and stopping conditions that cause the program to stop executing one thing and execute something else or quit entirely. Conditional statements helps in specifying which blocks of code to run on which elements under different contexts.   \n",
    "\n",
    "The loops available in Python are\n",
    "\n",
    "1. for\n",
    "1. while\n",
    "\n",
    "###  <font color='pink'> for\n",
    "\n",
    "**for** loop is used to execute same set of instructions for selected elements of a sequence. Every execution of the statement is called as iteration.  We can initiate a for loop using positive integers (We can use **range** function in python for this) and use them as index or we can specify iterating variable which takes corresponding value of the members of sequence for each iteration   \n",
    "The loop looks like    \n",
    "\n",
    "**for** iterator in Range / Sequence:   \n",
    "$~~~~~$ Instruction 1   \n",
    "$~~~~~$ Instruction 2   \n",
    "$~~~~~~~~~~~~~~~\\vdots$    \n",
    "$~~~~~$ Instruction n\n",
    "    \n",
    "Next command outside for loop\n",
    "\n",
    "\n",
    "### <font color='pink '> Conditional statements in Python are used to make decisions based on certain conditions. \n",
    "\n",
    "They allow the program to execute specific blocks of code depending on whether a condition is true or false.\n",
    "\n",
    "There are three main types of conditional statements in Python:\n",
    "\n",
    "if Statement: It checks a condition and executes a block of code if the condition is true. If the condition is false, the code block is skipped.\n",
    "\n",
    "else Statement: This is used after an if statement and provides an alternative block of code that runs when the if condition is false.\n",
    "\n",
    "elif Statement: Short for \"else if,\" this statement allows checking additional conditions if the initial if condition is false. If an elif condition is true, its corresponding block of code will be executed.\n",
    "\n",
    "These statements control the flow of execution in a Python program, allowing different actions based on different conditions.\n",
    "\n",
    "### <font color='pink '> Conditional Statements available are   \n",
    "1. if\n",
    "1. Nested if\n",
    "1. else\n",
    "1. elif\n",
    "1. Nested elif\n",
    "1. try except\n",
    "\n",
    "\n",
    "###  <font color='pink'> if\n",
    "\n",
    "**if**conditional statement is used to specify instruction to the machine if certain condition is satisfied, this statement will execute the instruction only when the condition is satisfied otherwise it does nothing. The statement will be of the form   \n",
    "\n",
    "**if** Condition:   \n",
    "$~~~~~$ Instruction 1   \n",
    "$~~~~~$ Instruction 2   \n",
    "$~~~~~~~~~~~~~~~\\vdots$    \n",
    "$~~~~~$ Instruction n\n",
    "   \n",
    "Next command outside if loop\n",
    "\n",
    "###  <font color='pink'> Nested if\n",
    "\n",
    "We can write one if conditional state within another, this structure is called as Nested if. It looks like \n",
    "\n",
    "**if** Condition 1:   \n",
    "$~~~~~$ Instruction 1  \n",
    "$~~~~~$  **if** Conditon 2:  \n",
    "$~~~~~$$~~~~~$ Instruction 2   \n",
    "$~~~~~~~~~~~~~~~\\vdots$    \n",
    "$~~~~~$$~~~~~$ Instruction n\n",
    "\n",
    "Next command outside for loop\n",
    "\n",
    "\n",
    "###  <font color='pink'> if else\n",
    "\n",
    "**if**statement checks and when condition  is not met it will not do any action, instead if we wish to perform another task when condition is not met then we can use **else**conditional statement. The statement will be of the form   \n",
    "\n",
    "**if** Condition :   \n",
    "$~~~~~$ Instruction 1   \n",
    "$~~~~~$ Instruction 2   \n",
    "$~~~~~~~~~~~~~~~\\vdots$    \n",
    "$~~~~~$ Instruction n   \n",
    "**else** :   \n",
    "$~~~~~$$~~~~~$$~~~~~$Alternate instruction1   \n",
    "$~~~~~$$~~~~~$$~~~~~$Alternate instruction2\n",
    "   \n",
    "Next command outside if loop\n",
    " \n",
    "###  <font color='pink'> elif\n",
    "\n",
    "Instead of just executing one alternative action than the conditional **if**statement, we can check for more conditions using **elif** conditional statement. The statement will be of the form   \n",
    "\n",
    "**if** Condition :   \n",
    "$~~~~~$ Instruction 1   \n",
    "$~~~~~$ Instruction 2   \n",
    "$~~~~~~~~~~~~~~~\\vdots$    \n",
    "$~~~~~$ Instruction n   \n",
    "**elif** Condition 2 :   \n",
    "$~~~~~$$~~~~~$Alternate instruction1   \n",
    "$~~~~~$$~~~~~$Alternate instruction2   \n",
    "**elif** Condition 3 :   \n",
    "$~~~~~$$~~~~~$Alternate instruction4   \n",
    "$~~~~~$$~~~~~$Alternate instruction5\n",
    "   \n",
    "Next command outside if loop\n",
    " \n",
    "\n",
    "### <font color='pink '> Control Statements available are   \n",
    "1. break\n",
    "1. continue\n",
    "1. pass"
   ]
  },
  {
   "cell_type": "markdown",
   "metadata": {},
   "source": [
    "## <font color='orange'> Examples"
   ]
  },
  {
   "cell_type": "code",
   "execution_count": null,
   "metadata": {},
   "outputs": [],
   "source": [
    "if(5<7):\n",
    "  print(\"Condition is satisfied\")"
   ]
  },
  {
   "cell_type": "code",
   "execution_count": null,
   "metadata": {},
   "outputs": [],
   "source": [
    "if(99<7):\n",
    "  print(\"Condition is satisfied\")"
   ]
  },
  {
   "cell_type": "code",
   "execution_count": null,
   "metadata": {},
   "outputs": [],
   "source": [
    "Cars=['Honda','Maruthi',\"BMW\",\"Mahindra\",\"Tata\",\"Toyota\"]\n",
    "No_of_seats=[4,4,5,7,7,7]\n",
    "\n",
    "for wheel in range(0,len(Cars)):\n",
    "  print(wheel)"
   ]
  },
  {
   "cell_type": "code",
   "execution_count": null,
   "metadata": {},
   "outputs": [],
   "source": [
    "x=list(range(1, 10))"
   ]
  },
  {
   "cell_type": "markdown",
   "metadata": {},
   "source": [
    "### <font color='pink'>  We can use the integer iterator to access elements of sequence as follows"
   ]
  },
  {
   "cell_type": "code",
   "execution_count": null,
   "metadata": {},
   "outputs": [],
   "source": [
    "for i in range(0,len(Cars)):\n",
    "  print(\"iteration \",i+1,\":\", Cars[i])"
   ]
  },
  {
   "cell_type": "code",
   "execution_count": 11,
   "metadata": {},
   "outputs": [
    {
     "ename": "IndentationError",
     "evalue": "unindent does not match any outer indentation level (<string>, line 4)",
     "output_type": "error",
     "traceback": [
      "\u001b[1;36m  File \u001b[1;32m<string>:4\u001b[1;36m\u001b[0m\n\u001b[1;33m    else:\u001b[0m\n\u001b[1;37m         ^\u001b[0m\n\u001b[1;31mIndentationError\u001b[0m\u001b[1;31m:\u001b[0m unindent does not match any outer indentation level\n"
     ]
    }
   ],
   "source": [
    "for i in range(len(x)):\n",
    "    if(x[i]%2==0):\n",
    "        print(x[i], \"is even\")\n",
    "    else:\n",
    "        if(x[i]%3==0):\n",
    "            print(x[i],\"is divisable by 3\")\n",
    "        else:\n",
    "            print(x[i],\"is neither even nor divisable by 3\")"
   ]
  },
  {
   "cell_type": "code",
   "execution_count": null,
   "metadata": {},
   "outputs": [],
   "source": [
    "a = 100\n",
    "\n",
    "if ( a == 100 ):\n",
    "    print(\"Value of expression is 100\")"
   ]
  },
  {
   "cell_type": "code",
   "execution_count": null,
   "metadata": {},
   "outputs": [],
   "source": [
    "a = 100\n",
    "if(a!=100):\n",
    "    print(\"not equal\")    "
   ]
  },
  {
   "cell_type": "code",
   "execution_count": null,
   "metadata": {},
   "outputs": [],
   "source": [
    "str1 = \"che\"\n",
    "str2 = \"bhe\"\n",
    "if (str1 == str2):\n",
    "    print(\"The strings are the same\")\n",
    "else:\n",
    "    print('The strings are not equal')"
   ]
  },
  {
   "cell_type": "code",
   "execution_count": null,
   "metadata": {},
   "outputs": [],
   "source": [
    "a=25\n",
    "if a%2 == 0:\n",
    "    print(a, \"is divisible by 2\")\n",
    "elif a%3 == 0:\n",
    "    print(a, \"is divisible by 3\")\n",
    "elif a%5 == 0:\n",
    "    print(a ,\"is divisible by 5\")\n",
    "else:\n",
    "    print(\"bye\")"
   ]
  },
  {
   "cell_type": "code",
   "execution_count": null,
   "metadata": {},
   "outputs": [],
   "source": [
    "for jeep in range(len(Cars)):\n",
    "  if len(Cars)<10:\n",
    "    if No_of_seats[jeep]==4:\n",
    "      print(Cars[jeep],\"4 Seater\")\n",
    "    elif No_of_seats[jeep]==7:\n",
    "      print(Cars[jeep],\"7 Seater\")\n",
    "    elif No_of_seats[jeep]==5:\n",
    "      print(Cars[jeep],\"5 Seater\")"
   ]
  },
  {
   "cell_type": "code",
   "execution_count": null,
   "metadata": {},
   "outputs": [],
   "source": [
    "l2=[23,1,0,12,45,-1,46]\n",
    "k=(0,1,2)\n",
    "t=(3,4,5,6)\n",
    "\n",
    "for index in k :\n",
    "    print('Number :', l2[index])\n",
    "for index in t:\n",
    "    print('Value :', l2[index])\n",
    "else:\n",
    "    print(\"bye\")"
   ]
  },
  {
   "cell_type": "code",
   "execution_count": null,
   "metadata": {},
   "outputs": [],
   "source": [
    "for x in l2:\n",
    "    print(\"hello world\")"
   ]
  },
  {
   "cell_type": "code",
   "execution_count": null,
   "metadata": {},
   "outputs": [],
   "source": [
    "len(l2)"
   ]
  },
  {
   "cell_type": "markdown",
   "metadata": {},
   "source": [
    "### <font color='pink'> Initiating iterators which takes values of sequence"
   ]
  },
  {
   "cell_type": "code",
   "execution_count": null,
   "metadata": {},
   "outputs": [],
   "source": [
    "for door in Cars:\n",
    "  print(door)\n",
    "\n",
    "print(\"This Statement is outside loop\")"
   ]
  },
  {
   "cell_type": "code",
   "execution_count": null,
   "metadata": {},
   "outputs": [],
   "source": [
    "#Let us print only 4 seaters using the nested if and for statements. Observe closely in which manner jeep acts.\n",
    "for jeep in range(len(Cars)):\n",
    "  if len(Cars)<10:\n",
    "    if No_of_seats[jeep]==4:\n",
    "      print(Cars[jeep])"
   ]
  },
  {
   "cell_type": "markdown",
   "metadata": {},
   "source": [
    "###  <font color='pink'> while\n",
    "\n",
    "**while**loop is used to execute the set of instructions over and over again till the condition is met. i.e For a while loop we specify a condition and if the condition is true the block of instructions will be executed again and again until the condition becomes false. It may happen sometimes that the loop executes forever. To overcome this, we can initiate a integer iterator variable and update its value within the loop so that the condition for execution becomes false and program stops at a particular time.   \n",
    "\n",
    "\n",
    "**while** Condition:   \n",
    "$~~~~~$ Instruction 1   \n",
    "$~~~~~$ Instruction 2   \n",
    "$~~~~~~~~~~~~~~~\\vdots$    \n",
    "$~~~~~$ Instruction n\n",
    "    \n",
    "Next command outside for loop"
   ]
  },
  {
   "cell_type": "code",
   "execution_count": null,
   "metadata": {},
   "outputs": [],
   "source": [
    "count = 50\n",
    "while(count<60):\n",
    "    print(count)\n",
    "    print(count+1)\n",
    "    count = count + 1\n",
    "    "
   ]
  },
  {
   "cell_type": "code",
   "execution_count": null,
   "metadata": {},
   "outputs": [],
   "source": [
    "i = 1\n",
    "while(i<5):\n",
    "    j=0\n",
    "    while(j<=i):\n",
    "        print (j**2, \"Power: square of %d\" %(j))\n",
    "        j=j+1\n",
    "    i=i+1\n",
    "print(\"bye\")"
   ]
  },
  {
   "cell_type": "markdown",
   "metadata": {},
   "source": [
    "Breaking the loop"
   ]
  },
  {
   "cell_type": "code",
   "execution_count": null,
   "metadata": {},
   "outputs": [],
   "source": [
    "e = []\n",
    "myl = [1,2,3,4,5,6,7,8]\n",
    "for x in myl:\n",
    "    if(x%2==0):\n",
    "        continue\n",
    "        print(x) #continue statement skips printing x\n",
    "        \n",
    "    e.append(x)\n",
    "    \n",
    "print(e)"
   ]
  },
  {
   "cell_type": "code",
   "execution_count": null,
   "metadata": {},
   "outputs": [],
   "source": [
    "e = []\n",
    "count = 0\n",
    "myl = [1,2,3,4,5,6,7,8]\n",
    "for x in myl:\n",
    "    if(x%2==0):\n",
    "        print(x)\n",
    "        e.append(x)\n",
    "    count = count+1\n",
    "    if(count==6):\n",
    "        break\n",
    "print(e)"
   ]
  },
  {
   "cell_type": "code",
   "execution_count": null,
   "metadata": {},
   "outputs": [],
   "source": [
    "myl = [1,2,3,4,5,6,7,8]\n",
    "scr=\"thee\"\n",
    "for x in myl:\n",
    "    if x == 5:\n",
    "        pass\n",
    "        x=2\n",
    "        scr =\"GOD\"\n",
    "    print ('Now :', x)\n",
    "    print(\"script: \",scr)"
   ]
  },
  {
   "cell_type": "code",
   "execution_count": null,
   "metadata": {},
   "outputs": [],
   "source": [
    "myl = [1,2,3,4,5,6,7,8]\n",
    "scr=\"thee\"\n",
    "for x in myl:\n",
    "    if x == 5:\n",
    "        pass\n",
    "        x=2\n",
    "        scr =\"why\"\n",
    "    print ('Now :', x)\n",
    "    print(\"script\",scr)"
   ]
  },
  {
   "cell_type": "code",
   "execution_count": null,
   "metadata": {},
   "outputs": [],
   "source": [
    "myl = [1,2,3,4,5,6,7,8]\n",
    "scr=\"thee\"\n",
    "for x in myl:\n",
    "    if x == 5:\n",
    "        x=2\n",
    "        scr =\"why\"\n",
    "    print ('Now :', x)\n",
    "    print(\"script\",scr)"
   ]
  },
  {
   "cell_type": "markdown",
   "metadata": {},
   "source": [
    "# <font color='orange'> Functions in Python\n",
    "\n",
    "Functions in Python allow for code reuse, modularity (the practice of breaking down a program into smaller, manageable, and reusable pieces), and better organization by grouping related statements together. \n",
    "\n",
    "Python provides approximately 70 **built-in** functions, while **user-defined** functions are created by programmers to perform specific tasks tailored to their needs. \n",
    "\n",
    "Additionally, **packages** in Python are collections of modules, which often include sets of functions designed for specific goals, such as data analysis or web development, making it easier to implement complex functionality."
   ]
  },
  {
   "cell_type": "markdown",
   "metadata": {},
   "source": [
    "##  <font color='orange'> **Indentation**\n",
    "\n",
    "In the written form of many languages, an indentation or indent is an empty space at the beginning of a line to signal the start of a new paragraph. \n",
    "\n",
    "### <font color='pink'> **In Python this indentation is very important and some tasks will only be performed if the indentation is proper**\n",
    "\n",
    "For executing single line of code, there is no need to give indent in the beginning.   \n",
    "\n",
    "There are situations such as defining a function with more than one instruction or while executing the conditional iteration using loops and control statements where we will be dealing with a bunch of instructions, these can be collectively considered as blocks and one thing which helps us separate these code blocks is **indentation**. \n",
    "\n",
    "It can be 2 spaces, 3 spaces and so on but for each block indent must be same, once we are starting a code without indent the function definition or looping gets completed \n",
    "\n",
    "### <font color='pink'> Here are the first (simple) examples"
   ]
  },
  {
   "cell_type": "code",
   "execution_count": null,
   "metadata": {},
   "outputs": [],
   "source": [
    "def s(a,b):\n",
    "    c = a+b\n",
    "    return(c)\n",
    "s(1,2)"
   ]
  },
  {
   "cell_type": "code",
   "execution_count": null,
   "metadata": {},
   "outputs": [],
   "source": [
    "def oe(no):\n",
    "\n",
    "    if(no%2==0):\n",
    "            print(\"even\")\n",
    "    else:\n",
    "            print(\"odd\")"
   ]
  },
  {
   "cell_type": "code",
   "execution_count": null,
   "metadata": {},
   "outputs": [],
   "source": [
    "oe(2**10)"
   ]
  },
  {
   "cell_type": "code",
   "execution_count": null,
   "metadata": {},
   "outputs": [],
   "source": [
    "nos=list(range(10))\n",
    "print(nos)\n",
    "for i in nos:\n",
    "    oe(nos[i])"
   ]
  },
  {
   "cell_type": "markdown",
   "metadata": {},
   "source": [
    "## <font color='orange'> Python - Global Variables\n",
    "\n",
    "Variables that are created outside of a function (as in all of the examples above) are known as global variables.\n",
    "\n",
    "Global variables can be used by everyone, both inside of functions and outside.\n",
    "\n",
    "Create a variable outside of a function, and use it inside the function"
   ]
  },
  {
   "cell_type": "code",
   "execution_count": null,
   "metadata": {},
   "outputs": [],
   "source": [
    "x = \"awesome\"\n",
    "\n",
    "def myfunc():\n",
    "  print(\"Python is \" + x)\n",
    "\n",
    "myfunc()"
   ]
  },
  {
   "cell_type": "markdown",
   "metadata": {},
   "source": [
    "If you create a variable with the same name inside a function, this variable will be local, and can only be used inside the function.\n",
    "The global variable with the same name will remain as it was, global and with the original value.\n",
    "\n",
    "Create a variable inside a function, with the same name as the global variable"
   ]
  },
  {
   "cell_type": "code",
   "execution_count": null,
   "metadata": {},
   "outputs": [],
   "source": [
    "x = \"awesome\"\n",
    "#------------------------------------------------------------------------\n",
    "def myfunc():\n",
    "  x = \"fantastic\"\n",
    "  x = '1234'  \n",
    "  print(\"Python is \" + x)\n",
    "#------------------------------------------------------------------------\n",
    "print(\"Python is \" + x)\n",
    "myfunc()\n",
    "\n",
    "print(\"Python is \" + x)"
   ]
  },
  {
   "cell_type": "markdown",
   "metadata": {},
   "source": [
    "### <font color='pink'> The global Keyword\n",
    "\n",
    "Normally, when you create a variable inside a function, that variable is local, and can only be used inside that function.\n",
    "\n",
    "To create a global variable inside a function, you can use the global keyword.\n",
    "\n",
    "If you use the global keyword, the variable belongs to the global scope:"
   ]
  },
  {
   "cell_type": "code",
   "execution_count": null,
   "metadata": {},
   "outputs": [],
   "source": [
    "def myfunc():\n",
    "  global x\n",
    "  x = \"fantastic\"\n",
    "\n",
    "myfunc()\n",
    "\n",
    "print(\"Python is \" + x)\n",
    "\n",
    "\n",
    "def myfunc1():\n",
    "  x = \"good\"\n",
    "\n",
    "myfunc1()\n",
    "\n",
    "print(\"Python is \" + x)"
   ]
  },
  {
   "cell_type": "markdown",
   "metadata": {},
   "source": [
    "## <font color='orange'> Lambda functions\n",
    "\n",
    "Lambda functions in Python are small, anonymous functions defined using the `lambda` keyword. They are used for short, one-line functions without the need to formally define them using the `def` keyword. A lambda function can take any number of arguments, but can only have one expression, which is evaluated and returned.\n",
    "\n",
    "### <font color='pink'> Functions used in combination with lambda functions\n",
    "\n",
    "1. `map` function: It applies a given function (such as a lambda) to each item of an iterable (like a list) and returns an iterator that yields the results. This is useful for transforming data without needing to write an explicit loop.\n",
    "\n",
    "2. `filter()`: Filters elements from an iterable based on a condition provided by a function (such as a lambda).\n",
    "\n",
    "3. `sorted()`: Returns a new list containing all items from the iterable sorted in ascending order (or descending if specified).\n",
    "\n",
    "4. `any()`: Returns True if any element of the iterable is true; otherwise, it returns False\n",
    "\n",
    "5. `all()`: Returns True if all elements of the iterable are true; otherwise, it returns False.\n",
    "\n",
    "6. `zip()`: Combines multiple iterables into a single iterable of tuples, where each tuple contains elements from the input iterables at the same position"
   ]
  },
  {
   "cell_type": "code",
   "execution_count": null,
   "metadata": {},
   "outputs": [],
   "source": [
    "x = lambda a, b,c : ((b*a) + c*(a-b)/(a-c))**2\n",
    "print(x(5,2, 3))"
   ]
  },
  {
   "cell_type": "code",
   "execution_count": null,
   "metadata": {},
   "outputs": [],
   "source": [
    "nos1=list(range(1,10))\n",
    "new=list(map(oe,nos1))\n",
    "print(nos1)"
   ]
  },
  {
   "cell_type": "code",
   "execution_count": null,
   "metadata": {},
   "outputs": [],
   "source": [
    "def increment(a) :\n",
    "    return(a+1)\n",
    "\n",
    "data=[1,2,3,4,5]\n",
    "new_list = map(increment,data) #map is useful for applying a function to a sequence of data \n",
    "print(list(new_list))"
   ]
  },
  {
   "cell_type": "code",
   "execution_count": null,
   "metadata": {},
   "outputs": [],
   "source": [
    "num_list = range(10, 50)\n",
    "print(list(num_list))\n",
    "new_list = list(map(lambda x: x > 30, num_list))\n",
    "print(new_list)"
   ]
  },
  {
   "cell_type": "code",
   "execution_count": null,
   "metadata": {},
   "outputs": [],
   "source": [
    "num_list = range(10, 50)\n",
    "print(list(num_list))\n",
    "new_list = list(filter(lambda x: x > 30, num_list))\n",
    "print(new_list)"
   ]
  },
  {
   "cell_type": "code",
   "execution_count": null,
   "metadata": {},
   "outputs": [],
   "source": [
    "nums = [1, 2, 3, 4]\n",
    "square_nos = list(map(lambda x: x ** 2, nums))  # Squares each number in the list\n",
    "print(square_nos)  "
   ]
  },
  {
   "cell_type": "code",
   "execution_count": null,
   "metadata": {},
   "outputs": [],
   "source": [
    "names = ['Alex', 'anand suresh', 'akbar',\"rani\",\"Joshphine Sakthi\", 'Habeeba']\n",
    "sorted_names = sorted(names, key=lambda x: len(x))  # Sorts by the length of each string\n",
    "print(sorted_names)  "
   ]
  },
  {
   "cell_type": "code",
   "execution_count": null,
   "metadata": {},
   "outputs": [],
   "source": [
    "names = ['alex', 'anand suresh', 'akbar',\"rani\",\"Joshphine Sakthi\", 'Habeeba']\n",
    "sorted_names = sorted(names, key=lambda x: len(x),reverse=True)  # Sorts by the length of each string\n",
    "print(sorted_names)  "
   ]
  },
  {
   "cell_type": "markdown",
   "metadata": {},
   "source": [
    "### <font color='pink'> Note regarding ordering\n",
    "x.upper() and x.lower() both help in case-insensitive sorting, and they ensure that the sort order is based purely on the letters' alphabetical order, not their case."
   ]
  },
  {
   "cell_type": "code",
   "execution_count": null,
   "metadata": {},
   "outputs": [],
   "source": [
    "alpha_sorted_names = sorted(names, key=lambda x: x.lower())#,reverse=True)  \n",
    "print(alpha_sorted_names)  "
   ]
  },
  {
   "cell_type": "code",
   "execution_count": null,
   "metadata": {},
   "outputs": [],
   "source": [
    "alpha_sorted_names = sorted(names, key=lambda x: x.upper())#,reverse=True)  \n",
    "print(alpha_sorted_names) "
   ]
  },
  {
   "cell_type": "code",
   "execution_count": null,
   "metadata": {},
   "outputs": [],
   "source": [
    "alpha_sorted_names = sorted(names, key=lambda x: x.lower())#,reverse=True)  \n",
    "print(alpha_sorted_names) "
   ]
  }
 ],
 "metadata": {
  "kernelspec": {
   "display_name": "Python 3 (ipykernel)",
   "language": "python",
   "name": "python3"
  },
  "language_info": {
   "codemirror_mode": {
    "name": "ipython",
    "version": 3
   },
   "file_extension": ".py",
   "mimetype": "text/x-python",
   "name": "python",
   "nbconvert_exporter": "python",
   "pygments_lexer": "ipython3",
   "version": "3.13.0"
  }
 },
 "nbformat": 4,
 "nbformat_minor": 4
}
