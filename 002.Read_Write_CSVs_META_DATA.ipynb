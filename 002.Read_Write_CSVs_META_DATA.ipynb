{
 "cells": [
  {
   "cell_type": "markdown",
   "metadata": {
    "id": "qhO39QH_7_Ke"
   },
   "source": [
    "# Necessary Libaraies"
   ]
  },
  {
   "cell_type": "code",
   "execution_count": null,
   "metadata": {
    "id": "Meh8EJHy7sK7"
   },
   "outputs": [],
   "source": [
    "import pandas as pd\n",
    "import numpy as np"
   ]
  },
  {
   "cell_type": "markdown",
   "metadata": {
    "id": "AAaGXDRw8E5n"
   },
   "source": [
    "# Read the data from Google drive\n",
    "\n",
    "1. Mount Google drive using menu or coding\n",
    "\n",
    "        from google.colab import drive\n",
    "        drive.mount('/contents/drive')\n",
    "\n",
    "1. Copy the path of the file\n",
    "\n",
    "1. Paste the link in the function pd.read_csv()"
   ]
  },
  {
   "cell_type": "code",
   "execution_count": null,
   "metadata": {
    "colab": {
     "base_uri": "https://localhost:8080/"
    },
    "id": "pb4CfB-J8-EY",
    "outputId": "059876ec-5841-4dcc-a77a-911209232d27"
   },
   "outputs": [
    {
     "name": "stdout",
     "output_type": "stream",
     "text": [
      "Mounted at /content/drive\n"
     ]
    }
   ],
   "source": [
    "from google.colab import drive\n",
    "drive.mount('/content/drive')"
   ]
  },
  {
   "cell_type": "code",
   "execution_count": null,
   "metadata": {
    "id": "mD-EsPsYAipS"
   },
   "outputs": [],
   "source": [
    "path=r'/content/drive/MyDrive/DataSets/1.cereal.csv'\n",
    "\n",
    "cerealdata=pd.read_csv(path)"
   ]
  },
  {
   "cell_type": "markdown",
   "metadata": {
    "id": "xzmbYHKpKu5g"
   },
   "source": [
    "# Another way\n",
    "\n",
    "Upload a csv directly from the local drive\n",
    "\n",
    "Use this approach\n",
    "\n",
    "      from google.colab import files\n",
    "      uploaded = files.upload()\n",
    "\n",
    "This will prompt to load the file from the local drive to the session\n",
    "\n",
    "Copy the path of the file from the NB to read the file\n",
    "\n",
    "      pd.read_csv('/content/df.csv')\n",
    "\n"
   ]
  },
  {
   "cell_type": "markdown",
   "metadata": {
    "id": "hTgzSAPWBFko"
   },
   "source": [
    "# # Some Requirements\n",
    "\n",
    "1. Column Headers: default first row\n",
    "\n",
    "1. skip_blank_lines: default True ( blank lines will be skipped, instead of showing NA)\n",
    "\n",
    "1. To remove White Space in the column names\n",
    "\n",
    "In the read_csv function, use the argument\n",
    "\n",
    "      skipinitialspace = True\n",
    "\n",
    "Equally, *str.strip* can be used\n",
    "\n",
    "      df.columns.str.strip()"
   ]
  },
  {
   "cell_type": "code",
   "execution_count": null,
   "metadata": {
    "id": "tJASgC3dA0dT"
   },
   "outputs": [],
   "source": [
    "cerealdata=pd.read_csv(path, skipinitialspace = True)"
   ]
  },
  {
   "cell_type": "code",
   "execution_count": null,
   "metadata": {
    "id": "jrYg4XeqComW"
   },
   "outputs": [],
   "source": [
    "cerealdata"
   ]
  },
  {
   "cell_type": "markdown",
   "metadata": {
    "id": "6N5vBCRtNsHY"
   },
   "source": [
    "# Row Names\n",
    "\n",
    "By default the row names starts with 0. If any other column is made to row names use (respective number or name)\n",
    "\n",
    "            index_col = int / str\n",
    "\n",
    "Equally, index can be made to start from 1 using **arrange** function from Numpy"
   ]
  },
  {
   "cell_type": "code",
   "execution_count": null,
   "metadata": {
    "id": "qE-7IkSNLw2c"
   },
   "outputs": [],
   "source": [
    "cerealdata.index = np.arange(1, len(cerealdata) + 1)"
   ]
  },
  {
   "cell_type": "markdown",
   "metadata": {
    "id": "Nw0pQOx93tAx"
   },
   "source": [
    "#Write CSV\n",
    "\n",
    "      df.to_csv('file path')\n",
    "\n",
    "# Writing without creating an index column\n",
    "      df.to_csv('file path',index=False)"
   ]
  },
  {
   "cell_type": "code",
   "execution_count": null,
   "metadata": {
    "id": "sjwQ1HDV3wF7"
   },
   "outputs": [],
   "source": [
    "pathW=r'/content/drive/MyDrive/DataSets/cerealdata.csv'\n",
    "\n",
    "cerealdata.to_csv(pathW)\n",
    "\n",
    "cerealdata.to_csv(pathW,index=False)"
   ]
  },
  {
   "cell_type": "markdown",
   "metadata": {},
   "source": [
    "## This is to show how DF.info( ) is useful in preparing meta data\n",
    "Outout file may be a text or csv"
   ]
  },
  {
   "cell_type": "code",
   "execution_count": null,
   "metadata": {},
   "outputs": [],
   "source": [
    "#For capture, writing the output\n",
    "import pandas as pd, io, sys"
   ]
  },
  {
   "cell_type": "code",
   "execution_count": null,
   "metadata": {},
   "outputs": [],
   "source": [
    "Mwest_Small=pd.read_csv(r\"E:\\ANALYTICS TRAINING\\Data\\MWest_Small.csv\")\n",
    "Mwest_Small"
   ]
  },
  {
   "cell_type": "code",
   "execution_count": null,
   "metadata": {},
   "outputs": [],
   "source": [
    "#Writing in text file\n",
    "captured_output = io.StringIO()\n",
    "sys.stdout = captured_output\n",
    "\n",
    "Mwest_Small.info(verbose=True)\n",
    "\n",
    "# Write the captured output to a file\n",
    "with open('Mwest_Small_MetaData.txt', 'w') as file:\n",
    "    file.write(captured_output.getvalue())"
   ]
  },
  {
   "cell_type": "code",
   "execution_count": null,
   "metadata": {},
   "outputs": [],
   "source": [
    "#Writing in csv\n",
    "captured_output = io.StringIO()\n",
    "sys.stdout = captured_output  \n",
    "Mwest_Small.info(verbose=True)\n",
    "info_lines = captured_output.getvalue().splitlines()\n",
    "\n",
    "with open('Mwest_Small_info.csv', 'w') as file:\n",
    "    for line in info_lines:\n",
    "        file.write(f\"{line}\\n\")"
   ]
  }
 ],
 "metadata": {
  "colab": {
   "authorship_tag": "ABX9TyNUkSCxr6Y7eRBNfAF/rUpO",
   "include_colab_link": true,
   "provenance": []
  },
  "kernelspec": {
   "display_name": "Python 3 (ipykernel)",
   "language": "python",
   "name": "python3"
  },
  "language_info": {
   "codemirror_mode": {
    "name": "ipython",
    "version": 3
   },
   "file_extension": ".py",
   "mimetype": "text/x-python",
   "name": "python",
   "nbconvert_exporter": "python",
   "pygments_lexer": "ipython3",
   "version": "3.13.0"
  }
 },
 "nbformat": 4,
 "nbformat_minor": 4
}
