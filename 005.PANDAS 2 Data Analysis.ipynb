{
 "cells": [
  {
   "cell_type": "code",
   "execution_count": null,
   "metadata": {},
   "outputs": [],
   "source": [
    "import numpy as np\n",
    "import pandas as pd"
   ]
  },
  {
   "cell_type": "code",
   "execution_count": null,
   "metadata": {},
   "outputs": [],
   "source": [
    "df=pd.read_csv(r\"E:\\ANALYTICS TRAINING\\DATA\\Wage.csv\")"
   ]
  },
  {
   "cell_type": "markdown",
   "metadata": {},
   "source": [
    "## <font color='orange'> Loading and basic profile of a data set"
   ]
  },
  {
   "cell_type": "code",
   "execution_count": null,
   "metadata": {},
   "outputs": [],
   "source": [
    "print(df.head(2))\n",
    "print(df.columns)\n",
    "print(df['race'].unique())"
   ]
  },
  {
   "cell_type": "code",
   "execution_count": null,
   "metadata": {},
   "outputs": [],
   "source": [
    "print(df['maritl'].unique().shape)\n",
    "print(df['health'].nunique())\n",
    "df.info(verbose=True)"
   ]
  },
  {
   "cell_type": "code",
   "execution_count": null,
   "metadata": {},
   "outputs": [],
   "source": [
    "print(df.shape)\n",
    "nrow=list(df.shape)[0]\n",
    "print(nrow)"
   ]
  },
  {
   "cell_type": "code",
   "execution_count": null,
   "metadata": {},
   "outputs": [],
   "source": [
    "ev=list(range(0,nrow,2))\n",
    "df[df.index.isin(ev)]"
   ]
  },
  {
   "cell_type": "markdown",
   "metadata": {},
   "source": [
    "## <font color='orange'> Data Analysis"
   ]
  },
  {
   "cell_type": "code",
   "execution_count": null,
   "metadata": {},
   "outputs": [],
   "source": [
    "%time df.describe()   #Sumarizes the dataframe"
   ]
  },
  {
   "cell_type": "code",
   "execution_count": null,
   "metadata": {},
   "outputs": [],
   "source": [
    "df['age'].mean()"
   ]
  },
  {
   "cell_type": "code",
   "execution_count": null,
   "metadata": {},
   "outputs": [],
   "source": [
    "df.select_dtypes(include=['number']).mean() #Selecting only numeric variables\n",
    "\n",
    "df.select_dtypes(include=['number']).median()\n",
    "\n",
    "df.select_dtypes(include=['number']).var()"
   ]
  },
  {
   "cell_type": "code",
   "execution_count": null,
   "metadata": {},
   "outputs": [],
   "source": [
    "print(df['age'].quantile())\n",
    "\n",
    "df2=df.select_dtypes(include=['number']).quantile([0.25,0.5]).T\n",
    "\n",
    "print(df2)\n",
    "\n",
    "df2.to_csv(r'E:\\testEG.csv', index = None, header=True)\n",
    "df2.to_csv('E:\\\\testEG2.csv', index = True, header=True)\n",
    "df2.to_csv('E:\\\\testEG3.csv', index = True, header=False)"
   ]
  },
  {
   "cell_type": "code",
   "execution_count": null,
   "metadata": {},
   "outputs": [],
   "source": [
    "#Correlation\n",
    "round(df['age'].corr(df['wage']),5)"
   ]
  },
  {
   "cell_type": "markdown",
   "metadata": {},
   "source": [
    "### <font color='pink'> Filtering - Revisit"
   ]
  },
  {
   "cell_type": "code",
   "execution_count": null,
   "metadata": {},
   "outputs": [],
   "source": [
    "#Filtering index / column wise\n",
    "df01=df[df.index.isin(range(10))]\n",
    "print(df01)\n",
    "df02=df[~df.index.isin(range(5,3000))]\n",
    "print(df02)"
   ]
  },
  {
   "cell_type": "code",
   "execution_count": null,
   "metadata": {},
   "outputs": [],
   "source": [
    "#Filtering with a variable\n",
    "df0=df['race']\n",
    "print(df0.shape)\n",
    "print(df0)\n",
    "print(type(df0))"
   ]
  },
  {
   "cell_type": "code",
   "execution_count": null,
   "metadata": {},
   "outputs": [],
   "source": [
    "#Filtering with more than one variable\n",
    "df03=df[['age',\"race\"]]\n",
    "print(df03.shape)\n",
    "print(df03)\n",
    "print(type(df03))"
   ]
  },
  {
   "cell_type": "code",
   "execution_count": null,
   "metadata": {},
   "outputs": [],
   "source": [
    "# Exclusion\n",
    "df04=df[df.columns[~df.columns.isin(['age',\"race\"])]]\n",
    "print(df04.shape)\n",
    "print(type(df03))\n",
    "print(type(df03))"
   ]
  },
  {
   "cell_type": "code",
   "execution_count": null,
   "metadata": {},
   "outputs": [],
   "source": [
    "#Filtering based on a condition\n",
    "df5=df.loc[df['age'] > 50]\n",
    "print(df5.shape)\n",
    "df5.head()"
   ]
  },
  {
   "cell_type": "code",
   "execution_count": null,
   "metadata": {},
   "outputs": [],
   "source": [
    "# #Filtering based on more than one condition with and / or\n",
    "df6=df.loc[(df[\"age\"].between(20, 25,inclusive='both'))&(df['race']==\"1. White\")&~(df['health_ins']==\"2. No\")|(df['wage']>150)]\n",
    "print(df6.shape)\n",
    "df6.head()"
   ]
  },
  {
   "cell_type": "markdown",
   "metadata": {},
   "source": [
    "### <font color='pink'> Group by and summaries\n",
    "\n",
    "1:group all variables by a variable. \n",
    "\n",
    "2:group only one variable by another variable  \n",
    "\n",
    "3.group by more than 1 variable"
   ]
  },
  {
   "cell_type": "code",
   "execution_count": null,
   "metadata": {},
   "outputs": [],
   "source": [
    "df_gr1=df.groupby(\"race\").count()\n",
    "print(type(df_gr1))\n",
    "df_gr1"
   ]
  },
  {
   "cell_type": "code",
   "execution_count": null,
   "metadata": {},
   "outputs": [],
   "source": [
    "df.groupby(\"race\").count().reset_index()"
   ]
  },
  {
   "cell_type": "code",
   "execution_count": null,
   "metadata": {},
   "outputs": [],
   "source": [
    "df.groupby([\"maritl\",'education']).count().reset_index()\n",
    "\n",
    "df.groupby([\"maritl\",'education']).size().reset_index()"
   ]
  },
  {
   "cell_type": "code",
   "execution_count": null,
   "metadata": {},
   "outputs": [],
   "source": [
    "df_gr2=df.groupby([\"maritl\",'education'])['age'].mean()\n",
    "round(df_gr2,2)"
   ]
  },
  {
   "cell_type": "code",
   "execution_count": null,
   "metadata": {},
   "outputs": [],
   "source": [
    "df.groupby([\"maritl\", \"education\"])['age'].agg(['count','mean','std',\"max\",'min']).reset_index()"
   ]
  },
  {
   "cell_type": "code",
   "execution_count": null,
   "metadata": {},
   "outputs": [],
   "source": [
    "df.groupby(\"education\")['age'].mean().sort_values(ascending=False)"
   ]
  },
  {
   "cell_type": "code",
   "execution_count": null,
   "metadata": {},
   "outputs": [],
   "source": [
    "df['wage_C']= df['wage'].apply(lambda x: 'Low' if x <= df['wage'].mean() else 'N')\n",
    "df.columns"
   ]
  },
  {
   "cell_type": "code",
   "execution_count": null,
   "metadata": {},
   "outputs": [],
   "source": [
    "df.groupby(['wage_C'])['wage_C'].count()"
   ]
  },
  {
   "cell_type": "code",
   "execution_count": null,
   "metadata": {},
   "outputs": [],
   "source": [
    "df.groupby(['race','wage_C'])['age'].mean()"
   ]
  },
  {
   "cell_type": "markdown",
   "metadata": {},
   "source": [
    "### <font color='pink'> Filter, Group by and summaries"
   ]
  },
  {
   "cell_type": "code",
   "execution_count": null,
   "metadata": {},
   "outputs": [],
   "source": [
    "df_gr3=df.loc[df[\"race\"]==\"1. White\"].groupby(['education', 'health',\"health_ins\"])['age'].mean()\n",
    "print(df_gr3)"
   ]
  }
 ],
 "metadata": {
  "kernelspec": {
   "display_name": "Python 3 (ipykernel)",
   "language": "python",
   "name": "python3"
  },
  "language_info": {
   "codemirror_mode": {
    "name": "ipython",
    "version": 3
   },
   "file_extension": ".py",
   "mimetype": "text/x-python",
   "name": "python",
   "nbconvert_exporter": "python",
   "pygments_lexer": "ipython3",
   "version": "3.13.0"
  }
 },
 "nbformat": 4,
 "nbformat_minor": 4
}
