{
 "cells": [
  {
   "cell_type": "code",
   "execution_count": null,
   "metadata": {},
   "outputs": [],
   "source": [
    "import numpy as np\n",
    "import pandas as pd"
   ]
  },
  {
   "cell_type": "code",
   "execution_count": null,
   "metadata": {},
   "outputs": [],
   "source": [
    "df=pd.read_csv(r\"E:\\ANALYTICS TRAINING\\DATA\\Absenteeism_at_work.csv\")"
   ]
  },
  {
   "cell_type": "markdown",
   "metadata": {},
   "source": [
    "## <font color='orange'> Loading and basic profile of a data set"
   ]
  },
  {
   "cell_type": "code",
   "execution_count": null,
   "metadata": {},
   "outputs": [],
   "source": [
    "df.head(3)"
   ]
  },
  {
   "cell_type": "code",
   "execution_count": null,
   "metadata": {},
   "outputs": [],
   "source": [
    "print(df.columns)"
   ]
  },
  {
   "cell_type": "code",
   "execution_count": null,
   "metadata": {},
   "outputs": [],
   "source": [
    "df.info()"
   ]
  },
  {
   "cell_type": "code",
   "execution_count": null,
   "metadata": {},
   "outputs": [],
   "source": [
    "# Rename columns\n",
    "df.rename(columns={'Reason for absence': 'Reason',\n",
    "                  'Month of absence': 'Month',\n",
    "                  'Day of the week': 'Weekday',\n",
    "                   'Disciplinary failure': 'Failure',\n",
    "                  'Transportation expense': 'Expense',\n",
    "                  'Distance from Residence to Work': 'Distance',\n",
    "                  'Service time': 'ServiceTime',\n",
    "                  'Work load Average/day ': 'Workload',\n",
    "                   'Hit target': 'HitTarget',\n",
    "                   'Son': 'Child',\n",
    "                  'Social drinker': 'Drinker',\n",
    "                  'Social smoker': 'Smoker',\n",
    "                  'Body mass index': 'BMI',\n",
    "                  'Absenteeism time in hours': 'AbsH'},\n",
    "          inplace = True)\n",
    "df.head(5)"
   ]
  },
  {
   "cell_type": "code",
   "execution_count": null,
   "metadata": {},
   "outputs": [],
   "source": [
    "df['Seasons'].value_counts()"
   ]
  },
  {
   "cell_type": "code",
   "execution_count": null,
   "metadata": {},
   "outputs": [],
   "source": [
    "df['Education']=np.where((df['Education']==1),'High school',\n",
    "                np.where((df['Education']==2),'Graduate',\n",
    "                np.where((df['Education']==3),'Postgraduate',\n",
    "                'Master and doctor')))"
   ]
  },
  {
   "cell_type": "code",
   "execution_count": null,
   "metadata": {},
   "outputs": [],
   "source": [
    "df['Drinker']=np.where((df['Drinker']==0),'No','Yes')"
   ]
  },
  {
   "cell_type": "code",
   "execution_count": null,
   "metadata": {},
   "outputs": [],
   "source": [
    "df['Seasons']=np.where((df['Seasons']==1),'Summer',\n",
    "              np.where((df['Seasons']==2),'Autumn',\n",
    "              np.where((df['Seasons']==3),'Winter',\n",
    "              \"spring\")))"
   ]
  },
  {
   "cell_type": "code",
   "execution_count": null,
   "metadata": {},
   "outputs": [],
   "source": [
    "# Convert   object to categorical\n",
    "cols = ['ID','Month', 'Weekday', 'Seasons',  'Failure', 'Education','Reason',\n",
    "             'Child', 'Drinker', 'Smoker', 'Pet']\n",
    "df[cols] = df[cols].astype('category')"
   ]
  },
  {
   "cell_type": "code",
   "execution_count": null,
   "metadata": {},
   "outputs": [],
   "source": [
    "df.head()"
   ]
  },
  {
   "cell_type": "code",
   "execution_count": null,
   "metadata": {},
   "outputs": [],
   "source": [
    "df.info(verbose=True)"
   ]
  },
  {
   "cell_type": "markdown",
   "metadata": {},
   "source": [
    "## <font color='orange'> Data Analysis"
   ]
  },
  {
   "cell_type": "code",
   "execution_count": null,
   "metadata": {},
   "outputs": [],
   "source": [
    "%time df.describe()   #Sumarizes the dataframe"
   ]
  },
  {
   "cell_type": "code",
   "execution_count": null,
   "metadata": {},
   "outputs": [],
   "source": [
    "print(df.describe())"
   ]
  },
  {
   "cell_type": "code",
   "execution_count": null,
   "metadata": {},
   "outputs": [],
   "source": [
    "df['Age'].mean()"
   ]
  },
  {
   "cell_type": "code",
   "execution_count": null,
   "metadata": {},
   "outputs": [],
   "source": [
    "df.select_dtypes(include=['number']).mean() #Selecting only numeric variables"
   ]
  },
  {
   "cell_type": "code",
   "execution_count": null,
   "metadata": {},
   "outputs": [],
   "source": [
    "df.select_dtypes(include=['number']).median()"
   ]
  },
  {
   "cell_type": "code",
   "execution_count": null,
   "metadata": {},
   "outputs": [],
   "source": [
    "df.select_dtypes(include=['number']).var()"
   ]
  },
  {
   "cell_type": "code",
   "execution_count": null,
   "metadata": {},
   "outputs": [],
   "source": [
    "print(df['Age'].quantile())\n",
    "\n",
    "df2=df.select_dtypes(include=['number']).quantile([0.25,0.5]).T\n",
    "\n",
    "print(df2)"
   ]
  },
  {
   "cell_type": "code",
   "execution_count": null,
   "metadata": {},
   "outputs": [],
   "source": [
    "#Correlation\n",
    "correl={'Age_Abs':round(df['Age'].corr(df['AbsH']),5),\n",
    "        'Age_WrkLd':round(df['Age'].corr(df['Workload']),5)}\n",
    "print(type(correl))\n",
    "pd.DataFrame(correl,index=['C1','C2'])"
   ]
  },
  {
   "cell_type": "code",
   "execution_count": null,
   "metadata": {},
   "outputs": [],
   "source": [
    "#Correlation\n",
    "df.select_dtypes(include=['number']).corr()"
   ]
  },
  {
   "cell_type": "code",
   "execution_count": null,
   "metadata": {},
   "outputs": [],
   "source": [
    "#Correlation\n",
    "df['Age'].corr(df['Workload'])"
   ]
  },
  {
   "cell_type": "code",
   "execution_count": null,
   "metadata": {},
   "outputs": [],
   "source": [
    "df['Seasons'].describe() #Categorical data"
   ]
  },
  {
   "cell_type": "code",
   "execution_count": null,
   "metadata": {},
   "outputs": [],
   "source": [
    "df['Seasons'].value_counts()"
   ]
  },
  {
   "cell_type": "code",
   "execution_count": null,
   "metadata": {},
   "outputs": [],
   "source": [
    "df['Seasons'].value_counts().sort_values() #ascending=False"
   ]
  },
  {
   "cell_type": "code",
   "execution_count": null,
   "metadata": {},
   "outputs": [],
   "source": [
    "df['Seasons'].value_counts().sort_index()"
   ]
  },
  {
   "cell_type": "code",
   "execution_count": null,
   "metadata": {},
   "outputs": [],
   "source": [
    "df['Drinker'].value_counts().sort_index()"
   ]
  },
  {
   "cell_type": "code",
   "execution_count": null,
   "metadata": {},
   "outputs": [],
   "source": [
    "df[['Seasons','Drinker']].value_counts().sort_index(ascending=[True,False])"
   ]
  },
  {
   "cell_type": "code",
   "execution_count": null,
   "metadata": {},
   "outputs": [],
   "source": [
    "df[['Seasons','Drinker']].value_counts().sort_index()"
   ]
  },
  {
   "cell_type": "code",
   "execution_count": null,
   "metadata": {},
   "outputs": [],
   "source": [
    "#Writing csv\n",
    "df2.to_csv(r'E:\\ANALYTICS TRAINING\\PYTHON\\testEG.csv', index = None, header=True)\n",
    "df2.to_csv(r'E:\\ANALYTICS TRAINING\\PYTHON\\testEG2.csv', index = True, header=True)\n",
    "df2.to_csv(r'E:\\ANALYTICS TRAINING\\PYTHON\\testEG3.csv', index = True, header=False)"
   ]
  },
  {
   "cell_type": "markdown",
   "metadata": {},
   "source": [
    "### <font color='pink'> Group by and summaries\n",
    "\n",
    "1:group all variables by a variable. \n",
    "\n",
    "2:group only one variable by another variable  \n",
    "\n",
    "3.group by more than 1 variable"
   ]
  },
  {
   "cell_type": "code",
   "execution_count": null,
   "metadata": {},
   "outputs": [],
   "source": [
    "df_gr1=df.groupby(\"Seasons\").count()\n",
    "print(type(df_gr1))\n",
    "df_gr1"
   ]
  },
  {
   "cell_type": "code",
   "execution_count": null,
   "metadata": {},
   "outputs": [],
   "source": [
    "df.groupby(\"Seasons\").count().reset_index()"
   ]
  },
  {
   "cell_type": "code",
   "execution_count": null,
   "metadata": {},
   "outputs": [],
   "source": [
    "df.groupby([\"Seasons\",'Education']).count().reset_index()"
   ]
  },
  {
   "cell_type": "code",
   "execution_count": null,
   "metadata": {},
   "outputs": [],
   "source": [
    "df.groupby([\"Seasons\",'Education']).size().reset_index().sort_index()"
   ]
  },
  {
   "cell_type": "code",
   "execution_count": null,
   "metadata": {
    "scrolled": true
   },
   "outputs": [],
   "source": [
    "df_gr2=df.groupby(\"Seasons\",observed=False)['Age'].mean() #Only the observed categories are included in the result.\n",
    "round(df_gr2,2)"
   ]
  },
  {
   "cell_type": "code",
   "execution_count": null,
   "metadata": {},
   "outputs": [],
   "source": [
    "df.groupby([\"Seasons\",'Education'],observed=False)['Age'].agg(['mean','std',\"max\",'min','count']).reset_index()"
   ]
  },
  {
   "cell_type": "code",
   "execution_count": null,
   "metadata": {},
   "outputs": [],
   "source": [
    "df.groupby(['Seasons'])['Education'].count()"
   ]
  },
  {
   "cell_type": "markdown",
   "metadata": {},
   "source": [
    "### <font color='pink'> Filter, Group by and summaries"
   ]
  },
  {
   "cell_type": "code",
   "execution_count": null,
   "metadata": {},
   "outputs": [],
   "source": [
    "#Understand the need for observed=False / True\n",
    "df_gr3=df.loc[df[\"Seasons\"]==\"spring\"].groupby(['Education', 'Drinker',\"Smoker\"],observed=False)['Age'].mean()\n",
    "print(df_gr3)"
   ]
  }
 ],
 "metadata": {
  "kernelspec": {
   "display_name": "Python 3 (ipykernel)",
   "language": "python",
   "name": "python3"
  },
  "language_info": {
   "codemirror_mode": {
    "name": "ipython",
    "version": 3
   },
   "file_extension": ".py",
   "mimetype": "text/x-python",
   "name": "python",
   "nbconvert_exporter": "python",
   "pygments_lexer": "ipython3",
   "version": "3.13.0"
  }
 },
 "nbformat": 4,
 "nbformat_minor": 4
}
