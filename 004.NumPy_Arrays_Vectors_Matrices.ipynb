{
 "cells": [
  {
   "cell_type": "markdown",
   "metadata": {},
   "source": [
    "# <font color='yellow'> Introduction to Arrays and NumPy\n",
    "\n",
    "An **array** is a data structure that stores an ordered collection of elements, typically of the same data type, allowing for efficient access and manipulation. \n",
    "\n",
    "Arrays are essential for handling large datasets and performing mathematical operations in fields such as data science, machine learning, and scientific computing. While Python’s built-in **list** can function as an array, it is not optimized for numerical tasks. \n",
    "\n",
    "**NumPy** is a powerful library for numerical computing in Python. It introduces the **ndarray** (N-dimensional array), which offers several advantages over Python lists:\n",
    "- **Homogeneous data**: All elements in a NumPy array are of the same type (e.g., all integers or floats).\n",
    "- **Multidimensional**: NumPy arrays can have one or more dimensions, making them ideal for representing vectors, matrices, and higher-dimensional data.\n",
    "- **Efficient memory usage**: NumPy arrays are stored in contiguous memory locations, making them faster and more memory-efficient than Python lists.\n",
    "- **Vectorized operations**: NumPy supports fast, element-wise operations on arrays without the need for explicit loops, significantly improving performance for numerical tasks.\n",
    "\n",
    "## <font color='orange'> Key Features of NumPy:\n",
    "\n",
    "1. **Array Creation**: NumPy allows for creating arrays from lists or other sequence-like structures, supporting both one-dimensional and multi-dimensional arrays.\n",
    "2. **Indexing and Slicing**: NumPy provides efficient methods to access and modify specific elements or subarrays using indexing and slicing.\n",
    "3. **Mathematical Operations**: You can perform arithmetic operations on entire arrays, including addition, subtraction, and element-wise multiplication, among others.\n",
    "4. **Array Properties**: NumPy arrays have attributes to check their shape, size, and dimensionality, providing a way to understand the structure of the data.\n",
    "\n",
    "NumPy is foundational for libraries like **Pandas** and **SciPy**, which build upon NumPy's array capabilities. \n",
    "\n",
    "Understanding arrays and how to manipulate them efficiently with NumPy is key for tasks in data analysis, machine learning, and scientific computing."
   ]
  },
  {
   "cell_type": "code",
   "execution_count": 1,
   "metadata": {},
   "outputs": [],
   "source": [
    "import numpy as np"
   ]
  },
  {
   "cell_type": "markdown",
   "metadata": {},
   "source": [
    "### <font color='orange'> 1-D array"
   ]
  },
  {
   "cell_type": "code",
   "execution_count": 2,
   "metadata": {},
   "outputs": [
    {
     "name": "stdout",
     "output_type": "stream",
     "text": [
      "dimension is  1\n",
      "shape is  (3,)\n",
      "[ 99 102 199]\n"
     ]
    }
   ],
   "source": [
    "arr1d=np.array([99,102,199])\n",
    "\n",
    "print(\"dimension is \", arr1d.ndim)\n",
    "\n",
    "print(\"shape is \",arr1d.shape)\n",
    "\n",
    "\n",
    "print(arr1d)"
   ]
  },
  {
   "cell_type": "markdown",
   "metadata": {},
   "source": [
    "## <font color='orange'> 2-D array"
   ]
  },
  {
   "cell_type": "code",
   "execution_count": 3,
   "metadata": {},
   "outputs": [
    {
     "name": "stdout",
     "output_type": "stream",
     "text": [
      "[[ 89  10]\n",
      " [ 89  13]\n",
      " [182  17]]\n",
      "dimension is  2\n",
      "shape is  (3, 2)\n",
      "int64\n"
     ]
    }
   ],
   "source": [
    "arr2d = np.array([[89,10], [89, 13], [182,17]])\n",
    "\n",
    "print(arr2d)\n",
    "\n",
    "print(\"dimension is \", arr2d.ndim)\n",
    "\n",
    "print(\"shape is \",arr2d.shape)\n",
    "\n",
    "print(arr2d.dtype)"
   ]
  },
  {
   "cell_type": "code",
   "execution_count": null,
   "metadata": {
    "scrolled": true
   },
   "outputs": [],
   "source": [
    "arr2d1 = np.array([[89,89,182], [10, 13,17]])\n",
    "\n",
    "print(\"dimension is \", arr2d1.ndim)\n",
    "\n",
    "print(\"shape is \",arr2d1.shape)\n",
    "\n",
    "print(arr2d1.shape)"
   ]
  },
  {
   "cell_type": "markdown",
   "metadata": {},
   "source": [
    "## <font color='orange'> 3-D array"
   ]
  },
  {
   "cell_type": "code",
   "execution_count": 4,
   "metadata": {},
   "outputs": [
    {
     "name": "stdout",
     "output_type": "stream",
     "text": [
      "dimension is  3\n",
      "shape is  (3, 2, 2)\n",
      "[[[44 45]\n",
      "  [ 5  5]]\n",
      "\n",
      " [[43 46]\n",
      "  [ 4  9]]\n",
      "\n",
      " [[90 92]\n",
      "  [ 7 10]]]\n"
     ]
    }
   ],
   "source": [
    "arr3d = np.array([\n",
    "                  [[44,45], [5,5]], \n",
    "                  [[43,46], [4,9]],\n",
    "                  [[90,92],[7,10]]\n",
    "                 ])\n",
    "\n",
    "print(\"dimension is \", arr3d.ndim)\n",
    "\n",
    "print(\"shape is \",arr3d.shape)\n",
    "\n",
    "print(arr3d)"
   ]
  },
  {
   "cell_type": "code",
   "execution_count": null,
   "metadata": {},
   "outputs": [],
   "source": [
    "arr3d1 = np.array([\n",
    "                        [[44,43,90],[45,46,92]], \n",
    "                        [[5,4,7], [5,9,10]]\n",
    "                    ])\n",
    "\n",
    "print(\"dimension is \", arr3d1.ndim)\n",
    "\n",
    "print(\"shape is \",arr3d1.shape)\n",
    "\n",
    "\n",
    "print(arr3d1)"
   ]
  },
  {
   "cell_type": "markdown",
   "metadata": {},
   "source": [
    "## <font color='orange'> 4-D array"
   ]
  },
  {
   "cell_type": "code",
   "execution_count": 13,
   "metadata": {},
   "outputs": [
    {
     "name": "stdout",
     "output_type": "stream",
     "text": [
      "dimension is  4\n",
      "shape is  (2, 2, 3, 2)\n",
      "[[[[18 26]\n",
      "   [16 27]\n",
      "   [33 57]]\n",
      "\n",
      "  [[25 20]\n",
      "   [10 36]\n",
      "   [33 59]]]\n",
      "\n",
      "\n",
      " [[[ 2  3]\n",
      "   [ 3  1]\n",
      "   [ 4  3]]\n",
      "\n",
      "  [[ 2  3]\n",
      "   [ 3  6]\n",
      "   [ 6  4]]]]\n"
     ]
    }
   ],
   "source": [
    "arr4d=np.array([\n",
    "                    [\n",
    "                        [[18,26],[16,27],[33,57]],\n",
    "                        [[25,20],[10,36],[33,59]]\n",
    "                    ],\n",
    "                    [\n",
    "                        [[2,3],[3,1],[4,3]],\n",
    "                        [[2,3],[3,6],[6,4]]\n",
    "                    ]\n",
    "               ])\n",
    "\n",
    "print(\"dimension is \", arr4d.ndim)\n",
    "\n",
    "print(\"shape is \",arr4d.shape)\n",
    "\n",
    "print(arr4d)"
   ]
  },
  {
   "attachments": {},
   "cell_type": "markdown",
   "metadata": {},
   "source": [
    "## <font color='orange'> Array subset / Indexing / Slicing"
   ]
  },
  {
   "cell_type": "code",
   "execution_count": 6,
   "metadata": {},
   "outputs": [
    {
     "name": "stdout",
     "output_type": "stream",
     "text": [
      "[ 99 102 199]\n"
     ]
    }
   ],
   "source": [
    "print(arr1d)"
   ]
  },
  {
   "cell_type": "code",
   "execution_count": 5,
   "metadata": {},
   "outputs": [
    {
     "name": "stdout",
     "output_type": "stream",
     "text": [
      "[ 99 102 199]\n",
      "[102 199]\n",
      "[99]\n",
      "[ 99 102]\n",
      "[99]\n",
      "[ 99 102]\n"
     ]
    }
   ],
   "source": [
    "#[0:] start from index 0 (the first element) and include all elements up to the end of the array\n",
    "#[:1] start from the beginning of the array and stop before index 1\n",
    "\n",
    "print(arr1d[0:])\n",
    "print(arr1d[1:])\n",
    "\n",
    "print(arr1d[:1])\n",
    "print(arr1d[:2])\n",
    "\n",
    "print(arr1d[0:1])\n",
    "print(arr1d[0:2])\n"
   ]
  },
  {
   "cell_type": "code",
   "execution_count": 8,
   "metadata": {},
   "outputs": [
    {
     "name": "stdout",
     "output_type": "stream",
     "text": [
      "[[[44 45]\n",
      "  [ 5  5]]\n",
      "\n",
      " [[43 46]\n",
      "  [ 4  9]]\n",
      "\n",
      " [[90 92]\n",
      "  [ 7 10]]]\n"
     ]
    }
   ],
   "source": [
    "print(arr3d)"
   ]
  },
  {
   "cell_type": "code",
   "execution_count": 7,
   "metadata": {},
   "outputs": [
    {
     "name": "stdout",
     "output_type": "stream",
     "text": [
      "[[[43 46]\n",
      "  [ 4  9]]\n",
      "\n",
      " [[90 92]\n",
      "  [ 7 10]]]\n"
     ]
    }
   ],
   "source": [
    "print(arr3d[1:])"
   ]
  },
  {
   "cell_type": "code",
   "execution_count": 9,
   "metadata": {},
   "outputs": [
    {
     "name": "stdout",
     "output_type": "stream",
     "text": [
      "[[[44 45]\n",
      "  [ 5  5]]\n",
      "\n",
      " [[43 46]\n",
      "  [ 4  9]]]\n"
     ]
    }
   ],
   "source": [
    "print(arr3d[:2])"
   ]
  },
  {
   "cell_type": "code",
   "execution_count": 10,
   "metadata": {},
   "outputs": [
    {
     "name": "stdout",
     "output_type": "stream",
     "text": [
      "[[[43 46]\n",
      "  [ 4  9]]\n",
      "\n",
      " [[90 92]\n",
      "  [ 7 10]]]\n"
     ]
    }
   ],
   "source": [
    "print(arr3d[1:3])"
   ]
  },
  {
   "cell_type": "code",
   "execution_count": 11,
   "metadata": {},
   "outputs": [
    {
     "name": "stdout",
     "output_type": "stream",
     "text": [
      "92\n",
      "45\n",
      "44\n",
      "46\n"
     ]
    }
   ],
   "source": [
    "print(arr3d[2][0][1])\n",
    "\n",
    "print(arr3d[0][0][1])\n",
    "\n",
    "print(arr3d[0][0][0])\n",
    "\n",
    "print(arr3d[1][0][1])"
   ]
  },
  {
   "cell_type": "code",
   "execution_count": null,
   "metadata": {},
   "outputs": [],
   "source": [
    "arr3d[1][0:]"
   ]
  },
  {
   "cell_type": "code",
   "execution_count": null,
   "metadata": {},
   "outputs": [],
   "source": [
    "arr3d[1][0:][1:]"
   ]
  },
  {
   "cell_type": "code",
   "execution_count": null,
   "metadata": {},
   "outputs": [],
   "source": [
    "arr3d = np.arange(60).reshape(3, 4, 5)\n",
    "print(arr3d.shape)  \n",
    "print(arr3d)"
   ]
  },
  {
   "cell_type": "code",
   "execution_count": null,
   "metadata": {},
   "outputs": [],
   "source": [
    "arr3d[1][0:][1:]"
   ]
  },
  {
   "cell_type": "code",
   "execution_count": 14,
   "metadata": {},
   "outputs": [
    {
     "name": "stdout",
     "output_type": "stream",
     "text": [
      "[[[[18 26]\n",
      "   [16 27]\n",
      "   [33 57]]\n",
      "\n",
      "  [[25 20]\n",
      "   [10 36]\n",
      "   [33 59]]]\n",
      "\n",
      "\n",
      " [[[ 2  3]\n",
      "   [ 3  1]\n",
      "   [ 4  3]]\n",
      "\n",
      "  [[ 2  3]\n",
      "   [ 3  6]\n",
      "   [ 6  4]]]]\n"
     ]
    }
   ],
   "source": [
    "print(arr4d)"
   ]
  },
  {
   "cell_type": "code",
   "execution_count": 15,
   "metadata": {},
   "outputs": [
    {
     "name": "stdout",
     "output_type": "stream",
     "text": [
      "18\n",
      "4\n"
     ]
    }
   ],
   "source": [
    "print(arr4d[0][0][0][0])\n",
    "print(arr4d[1][1][2][1])"
   ]
  },
  {
   "cell_type": "markdown",
   "metadata": {},
   "source": [
    "## <font color='orange'> Array Operations"
   ]
  },
  {
   "cell_type": "code",
   "execution_count": null,
   "metadata": {},
   "outputs": [],
   "source": [
    "arr3d.ndim"
   ]
  },
  {
   "cell_type": "code",
   "execution_count": null,
   "metadata": {},
   "outputs": [],
   "source": [
    "arr3d.shape"
   ]
  },
  {
   "cell_type": "code",
   "execution_count": null,
   "metadata": {},
   "outputs": [],
   "source": [
    "print(arr3d.T.shape)\n",
    "print(arr3d.T)"
   ]
  },
  {
   "cell_type": "markdown",
   "metadata": {},
   "source": [
    "## <font color='orange'> Vector and 1-D array\n",
    "\n",
    "A 1D NumPy array (vector) is an ordered collection of numbers. It is created using np.array() and is used to represent vectors in mathematical operations. In NumPy, vectors can be manipulated using a variety of arithmetic and linear algebra operations.\n",
    "\n",
    "This can be thought of as a matrix with either one row or one column\n",
    "\n",
    "### <font color='pink'> Operations\n",
    "\n",
    "1. Addition: Adds two vectors element-wise.\n",
    "\n",
    "1. Subtraction: Subtracts two vectors element-wise.\n",
    "\n",
    "1. Element-wise Multiplication: Multiplies two vectors element-wise.\n",
    "\n",
    "1. Element-wise Division: Divides two vectors element-wise.\n",
    "\n",
    "1. Dot Product of two vectors: Computes the dot product of two vectors.\n",
    "\n",
    "1. Scalar Multiplication: Multiplies each element of a vector by a scalar.\n",
    "\n",
    "1. Element-wise Power: Raises each element of the vector to a specified power.\n",
    "\n",
    "1. Sum of Elements: Computes the sum of all elements in the vector.\n",
    "\n",
    "1. Magnitude (Norm) of a vector: Computes the magnitude (Euclidean norm) of the vector. (using linalg)\n",
    "\n",
    "**Norm and dot product are related if applied for the same vector, square of norm is the dot product**"
   ]
  },
  {
   "cell_type": "code",
   "execution_count": 17,
   "metadata": {},
   "outputs": [],
   "source": [
    "arr1d=np.array([2,4,7])\n",
    "arr1d_1=np.array([10,12,28])"
   ]
  },
  {
   "cell_type": "code",
   "execution_count": 18,
   "metadata": {},
   "outputs": [
    {
     "name": "stdout",
     "output_type": "stream",
     "text": [
      "1\n",
      "1\n"
     ]
    }
   ],
   "source": [
    "print(arr1d.ndim)\n",
    "print(arr1d_1.ndim)"
   ]
  },
  {
   "cell_type": "code",
   "execution_count": 19,
   "metadata": {},
   "outputs": [
    {
     "name": "stdout",
     "output_type": "stream",
     "text": [
      "[2 4 7]\n"
     ]
    }
   ],
   "source": [
    "print(arr1d)"
   ]
  },
  {
   "cell_type": "code",
   "execution_count": 21,
   "metadata": {},
   "outputs": [
    {
     "name": "stdout",
     "output_type": "stream",
     "text": [
      "[10 12 28]\n"
     ]
    }
   ],
   "source": [
    "print(arr1d_1)"
   ]
  },
  {
   "cell_type": "code",
   "execution_count": 20,
   "metadata": {},
   "outputs": [
    {
     "name": "stdout",
     "output_type": "stream",
     "text": [
      "[4 6 9]\n",
      "[ 4 16 49]\n",
      "[ 4 16 49]\n",
      "[     4    256 823543]\n",
      "[ 6 18 51]\n",
      "[5. 3. 4.]\n",
      "[ 20  48 196]\n"
     ]
    }
   ],
   "source": [
    "print(arr1d + 2)\n",
    "\n",
    "print(arr1d **2)\n",
    "\n",
    "print(arr1d*arr1d)\n",
    "\n",
    "print(arr1d**arr1d)\n",
    "\n",
    "print(arr1d*arr1d+2)\n",
    "\n",
    "print(arr1d_1/arr1d)\n",
    "\n",
    "print(arr1d_1*arr1d)"
   ]
  },
  {
   "cell_type": "code",
   "execution_count": 22,
   "metadata": {},
   "outputs": [
    {
     "name": "stdout",
     "output_type": "stream",
     "text": [
      "1028\n"
     ]
    },
    {
     "data": {
      "text/plain": [
       "1028"
      ]
     },
     "execution_count": 22,
     "metadata": {},
     "output_type": "execute_result"
    }
   ],
   "source": [
    "print(np.dot(arr1d_1,arr1d_1)) \n",
    "100+144+(28**2)"
   ]
  },
  {
   "cell_type": "code",
   "execution_count": null,
   "metadata": {},
   "outputs": [],
   "source": [
    "print(np.dot(arr1d,arr1d)) \n",
    "print(np.dot(arr1d,arr1d_1)) "
   ]
  },
  {
   "cell_type": "code",
   "execution_count": 23,
   "metadata": {},
   "outputs": [
    {
     "name": "stdout",
     "output_type": "stream",
     "text": [
      "13\n"
     ]
    }
   ],
   "source": [
    "print(np.sum(arr1d))"
   ]
  },
  {
   "cell_type": "code",
   "execution_count": 24,
   "metadata": {},
   "outputs": [
    {
     "name": "stdout",
     "output_type": "stream",
     "text": [
      "8.306623862918075\n"
     ]
    }
   ],
   "source": [
    "print(np.linalg.norm(arr1d))"
   ]
  },
  {
   "cell_type": "code",
   "execution_count": 25,
   "metadata": {},
   "outputs": [
    {
     "name": "stdout",
     "output_type": "stream",
     "text": [
      "69.0\n",
      "8.306623862918075\n"
     ]
    }
   ],
   "source": [
    "print(np.linalg.norm(arr1d)**2)\n",
    "print(69**0.5)"
   ]
  },
  {
   "cell_type": "code",
   "execution_count": 26,
   "metadata": {},
   "outputs": [
    {
     "name": "stdout",
     "output_type": "stream",
     "text": [
      "69\n"
     ]
    }
   ],
   "source": [
    "print(np.dot(arr1d,arr1d)) "
   ]
  },
  {
   "cell_type": "markdown",
   "metadata": {},
   "source": [
    "## <font color='orange'> Matrix and 2-D Array\n",
    "\n",
    "NumPy arrays are highly useful for representing matrices and performing matrix operations in Python. \n",
    "\n",
    "NumPy provides many features that make it easy to work with matrices (which are essentially 2D arrays) and perform common mathematical operations, such as \n",
    "\n",
    "1. matrix addition / subtraction\n",
    "2. matrix multiplication\n",
    "3. element-wise operations\n",
    "4. other linear algebra tasks (inverse / transpose / determinant etc)"
   ]
  },
  {
   "cell_type": "code",
   "execution_count": 27,
   "metadata": {},
   "outputs": [
    {
     "data": {
      "text/plain": [
       "array([[ 8, 10],\n",
       "       [ 9, 13],\n",
       "       [12, 17]])"
      ]
     },
     "execution_count": 27,
     "metadata": {},
     "output_type": "execute_result"
    }
   ],
   "source": [
    "# 3 x 2 matrix\n",
    "arr2dM = np.array([[8,10], [9, 13], [12,17]])\n",
    "arr2dM"
   ]
  },
  {
   "cell_type": "code",
   "execution_count": 28,
   "metadata": {},
   "outputs": [
    {
     "name": "stdout",
     "output_type": "stream",
     "text": [
      "Matrix Addition\n",
      "[[10 12]\n",
      " [11 15]\n",
      " [14 19]]\n",
      "Scalar / constant multiplication\n",
      "[[16 20]\n",
      " [18 26]\n",
      " [24 34]]\n",
      "Matrix transpose\n",
      "[[ 8  9 12]\n",
      " [10 13 17]]\n",
      "Element wise exponentiation\n",
      "[[ 64 100]\n",
      " [ 81 169]\n",
      " [144 289]]\n",
      "Matrix multiplication\n",
      "[[164 202 266]\n",
      " [202 250 329]\n",
      " [266 329 433]]\n",
      "norm\n",
      "29.103264421710495\n"
     ]
    }
   ],
   "source": [
    "print(\"Matrix Addition\")\n",
    "print(arr2dM+2)\n",
    "\n",
    "print(\"Scalar / constant multiplication\")\n",
    "print(arr2dM * 2)\n",
    "\n",
    "print(\"Matrix transpose\")\n",
    "print(arr2dM . T)\n",
    "\n",
    "print(\"Element wise exponentiation\")\n",
    "print(arr2dM ** 2)\n",
    "\n",
    "print(\"Matrix multiplication\") #dot product\n",
    "print(np.dot(arr2dM , arr2dM.T))\n",
    "\n",
    "print(\"norm\")\n",
    "print(np.linalg.norm(arr2dM))"
   ]
  },
  {
   "cell_type": "code",
   "execution_count": null,
   "metadata": {},
   "outputs": [],
   "source": [
    "mat3=np.array([[1,2,3],[3,4,5],[5,6,7]]) #a square matrix"
   ]
  },
  {
   "cell_type": "code",
   "execution_count": null,
   "metadata": {},
   "outputs": [],
   "source": [
    "np. diagonal(arr2dM)"
   ]
  },
  {
   "cell_type": "code",
   "execution_count": null,
   "metadata": {},
   "outputs": [],
   "source": [
    "np. diagonal(mat3)"
   ]
  },
  {
   "cell_type": "code",
   "execution_count": null,
   "metadata": {},
   "outputs": [],
   "source": [
    "print(np.trace(mat3))\n",
    "print(np.trace(arr2dM))"
   ]
  },
  {
   "cell_type": "code",
   "execution_count": null,
   "metadata": {},
   "outputs": [],
   "source": [
    "print(mat3)\n",
    "print(np.multiply(mat3,mat3))\n",
    "print(np.dot(mat3,mat3))"
   ]
  },
  {
   "cell_type": "code",
   "execution_count": null,
   "metadata": {},
   "outputs": [],
   "source": [
    "print(np.linalg.inv(mat3))"
   ]
  },
  {
   "cell_type": "code",
   "execution_count": null,
   "metadata": {},
   "outputs": [],
   "source": [
    "np.linalg.det(mat3)"
   ]
  },
  {
   "cell_type": "code",
   "execution_count": 126,
   "metadata": {},
   "outputs": [
    {
     "data": {
      "text/plain": [
       "(3, 3)"
      ]
     },
     "execution_count": 126,
     "metadata": {},
     "output_type": "execute_result"
    }
   ],
   "source": [
    "mat3.shape"
   ]
  },
  {
   "cell_type": "code",
   "execution_count": 125,
   "metadata": {},
   "outputs": [
    {
     "data": {
      "text/plain": [
       "array([[22, 28, 34],\n",
       "       [40, 52, 64],\n",
       "       [58, 76, 94]])"
      ]
     },
     "execution_count": 125,
     "metadata": {},
     "output_type": "execute_result"
    }
   ],
   "source": [
    "np.matmul(mat3,mat3)"
   ]
  },
  {
   "cell_type": "code",
   "execution_count": null,
   "metadata": {},
   "outputs": [],
   "source": [
    "np.linalg.eig(mat3.T)"
   ]
  }
 ],
 "metadata": {
  "kernelspec": {
   "display_name": "Python 3 (ipykernel)",
   "language": "python",
   "name": "python3"
  },
  "language_info": {
   "codemirror_mode": {
    "name": "ipython",
    "version": 3
   },
   "file_extension": ".py",
   "mimetype": "text/x-python",
   "name": "python",
   "nbconvert_exporter": "python",
   "pygments_lexer": "ipython3",
   "version": "3.13.0"
  }
 },
 "nbformat": 4,
 "nbformat_minor": 4
}
