{
 "cells": [
  {
   "cell_type": "markdown",
   "id": "4c9365f6",
   "metadata": {
    "id": "JBzd3gMpNcxH"
   },
   "source": [
    "# <font color='yellow'> Pandas Introduction\n",
    "\n",
    "## <font color='orange'> What is Pandas?\n",
    "\n",
    "Pandas is a Python library used for working with data sets.\n",
    "\n",
    "It has functions for analyzing, cleaning, exploring, and manipulating data.\n",
    "\n",
    "The name \"Pandas\" has a reference to both \"Panel Data\", and \"Python Data Analysis\" and was created by Wes McKinney in 2008.\n",
    "\n",
    "## <font color='Orange'> Why Use Pandas?\n",
    "\n",
    "Pandas allows us to analyze big data and make conclusions based on statistical theories.\n",
    "\n",
    "Pandas can clean messy data sets, and make them readable and relevant.\n",
    "\n",
    "Relevant data is very important in data science.\n",
    "\n",
    "If a library is not installed, install them from pip (Python's package installer)\n",
    "\n",
    "**!pip install pandas or !pip install numpy**"
   ]
  },
  {
   "cell_type": "code",
   "execution_count": 55,
   "id": "4ca24fd2",
   "metadata": {
    "id": "ZG1JPaFUNcxf"
   },
   "outputs": [],
   "source": [
    "import pandas as pd\n",
    "import numpy as np"
   ]
  },
  {
   "cell_type": "markdown",
   "id": "92513252",
   "metadata": {
    "id": "nrSVqsaANcxn"
   },
   "source": [
    "## <font color='orange'>  Pandas Series\n",
    "\n",
    "A Pandas Series is like a column in a table.\n",
    "\n",
    "It is a one-dimensional array holding data of any type."
   ]
  },
  {
   "cell_type": "markdown",
   "id": "067bad80",
   "metadata": {
    "id": "sZINBQ4yNcxq"
   },
   "source": [
    "## <font color='orange'> Labels\n",
    "\n",
    "If nothing else is specified, the values are labeled with their index number.\n",
    "\n",
    "**First value has index 0, second value has index 1 etc**.\n",
    "\n",
    "This label can be used to access a specified value.\n",
    "\n",
    "Return the first value of the Series:print(myvar[0])\n",
    "    \n",
    "Create Labels\n",
    "\n",
    "With the index argument, you can name your own labels."
   ]
  },
  {
   "cell_type": "markdown",
   "id": "aaf749f9",
   "metadata": {
    "id": "2rKsnNfMNcxu"
   },
   "source": [
    "# <font color='orange'> Key Objects as Series\n",
    "\n",
    "You can also use a key/value object, like a dictionary, when creating a Series.\n",
    "\n",
    "Create a simple Pandas Series from a dictionary:"
   ]
  },
  {
   "cell_type": "code",
   "execution_count": null,
   "id": "06fa607c",
   "metadata": {},
   "outputs": [],
   "source": [
    "#Creating a series\n",
    "\n",
    "a = [1, 7, 2]\n",
    "\n",
    "myvar = pd.Series(a)\n",
    "\n",
    "myvar1 = pd.Series(a, index = [\"x\", \"y\", \"z\"])\n",
    "\n",
    "print(myvar)\n",
    "print(myvar1)"
   ]
  },
  {
   "cell_type": "code",
   "execution_count": null,
   "id": "f82d6e12",
   "metadata": {},
   "outputs": [],
   "source": [
    "#using tuple\n",
    "t1=(1,2,3,4)\n",
    "t1S=pd.Series(t1,index=[\"A\",\"B\",\"C\",\"D\"])\n",
    "print(t1S)"
   ]
  },
  {
   "cell_type": "code",
   "execution_count": null,
   "id": "5f2ca7ea",
   "metadata": {},
   "outputs": [],
   "source": [
    "#using list\n",
    "L1=[1,2,3,4]\n",
    "L1S=pd.Series(L1,index=[\"A\",\"B\",\"C\",\"D\"])\n",
    "print(L1S)"
   ]
  },
  {
   "cell_type": "code",
   "execution_count": null,
   "id": "ad36ec7a",
   "metadata": {},
   "outputs": [],
   "source": [
    "#using dict\n",
    "d1={\"x\":\"asdf\",1:12,'1':\"mnb\"}\n",
    "d1S=pd.Series(d1)\n",
    "print(d1S)"
   ]
  },
  {
   "cell_type": "code",
   "execution_count": null,
   "id": "42ad586b",
   "metadata": {},
   "outputs": [],
   "source": [
    "#using numpy\n",
    "a1=np.array([1,2,3,4]) \n",
    "a1S=pd.Series(a1)\n",
    "print(a1S)\n",
    "\n",
    "s11=np.round(np.arange(1,10,1/7,dtype=float),3)\n",
    "s1=pd.Series(s11)\n",
    "print(s1)"
   ]
  },
  {
   "cell_type": "code",
   "execution_count": null,
   "id": "5d0af1c4",
   "metadata": {},
   "outputs": [],
   "source": [
    "print(t1S+2)\n",
    "print(d1S*3)\n",
    "print(s**4)\n",
    "print(np.round(s1/7,2))\n",
    "print(L1S**L1S)"
   ]
  },
  {
   "cell_type": "markdown",
   "id": "859f7433",
   "metadata": {
    "id": "FdjYsNpYNcx4"
   },
   "source": [
    "# <font color='orange'> Named Indexes in Series\n",
    "\n",
    "With the index argument, you can name your own indexes.\n",
    "\n",
    "Add a list of names to give each row a name:\n",
    "\n",
    "### <font color='pink'> Locate Named Indexes *loc* attribute\n",
    "\n",
    "Use the named index in the loc attribute to return the specified row(s).\n",
    "\n",
    "Return \"day2\":"
   ]
  },
  {
   "cell_type": "code",
   "execution_count": null,
   "id": "c80379b9",
   "metadata": {
    "colab": {
     "base_uri": "https://localhost:8080/"
    },
    "id": "TY-YQF4zNcxv",
    "outputId": "fda953ea-7b7c-4689-b1ef-759ef57f4ce0"
   },
   "outputs": [],
   "source": [
    "calories = {\"day1\": 420, \"day2\": 380, \"day3\": 390}\n",
    "myvar = pd.Series(calories)\n",
    "print(myvar)"
   ]
  },
  {
   "cell_type": "code",
   "execution_count": null,
   "id": "c02da3ce",
   "metadata": {
    "colab": {
     "base_uri": "https://localhost:8080/"
    },
    "id": "1WABMuJXYlxd",
    "outputId": "051f89bf-740c-4eac-d3c9-2227672081eb"
   },
   "outputs": [],
   "source": [
    "myvar.loc['day2']"
   ]
  },
  {
   "cell_type": "markdown",
   "id": "041d6f9d",
   "metadata": {
    "id": "FwwkxH20Ncxx"
   },
   "source": [
    "## <font color='Orange'> DataFrames\n",
    "\n",
    "Data sets in Pandas are usually multi-dimensional tables, called DataFrames.\n",
    "\n",
    "A Pandas DataFrame is a 2 dimensional data structure, like a 2 dimensional array, or a table with rows and columns.\n",
    "\n",
    "Series is like a column, a DataFrame is the whole table.\n",
    "\n",
    "Create a DataFrame from two Series:"
   ]
  },
  {
   "cell_type": "code",
   "execution_count": null,
   "id": "a2073eed",
   "metadata": {
    "id": "4JuN6CO-Ncx5"
   },
   "outputs": [],
   "source": [
    "data = {\n",
    "  \"calories\": [420, 380, 390],\n",
    "  \"duration\": [50, 40, 45]\n",
    "}\n",
    "EX = pd.DataFrame(data, index = [\"day1\", \"day2\", \"day3\"])\n",
    "print(EX)"
   ]
  },
  {
   "cell_type": "markdown",
   "id": "86b93d6b",
   "metadata": {
    "id": "lK9QE4dODV7Y"
   },
   "source": [
    "## <font color='orange'> Dictionary to DF"
   ]
  },
  {
   "cell_type": "code",
   "execution_count": null,
   "id": "0487f17e",
   "metadata": {},
   "outputs": [],
   "source": [
    "# Making dataframe from a dictionary\n",
    "df2 = pd.DataFrame({'A': 1.,\n",
    "                        'B': pd.Timestamp('20130102'),\n",
    "                        'C': pd.Series(1, index=list(range(4)), dtype='float32'),\n",
    "                        'D': np.array([3] * 4, dtype='int32'),\n",
    "                        'E': pd.Categorical([\"test\", \"train\", \"test\", \"train\"]),\n",
    "                         'F': 'foo'},index=(1,2,3,4))\n"
   ]
  },
  {
   "cell_type": "markdown",
   "id": "6986a50c-279e-47b3-9391-ebc20ea3c701",
   "metadata": {
    "id": "lK9QE4dODV7Y"
   },
   "source": [
    "## <font color='orange'> List to DF"
   ]
  },
  {
   "cell_type": "code",
   "execution_count": null,
   "id": "50ab55e5",
   "metadata": {
    "id": "fp8-4gPzDUS6"
   },
   "outputs": [],
   "source": [
    "# list of strings\n",
    "lst = ['alpha', 'beta', 'gamma', 'delta', '0', '1', '2']\n",
    "\n",
    "# Calling DataFrame constructor on list\n",
    "df = pd.DataFrame(lst)\n",
    "print(df)"
   ]
  },
  {
   "cell_type": "markdown",
   "id": "d4404b72",
   "metadata": {
    "id": "qGsZ5G_vYBnn"
   },
   "source": [
    "## <font color='orange'> Read / Load a CSV from the local drive"
   ]
  },
  {
   "cell_type": "code",
   "execution_count": null,
   "id": "c6964a90",
   "metadata": {
    "id": "Ujp1SfhbIj_5"
   },
   "outputs": [],
   "source": [
    "df = pd.read_csv(r\"E:\\ANALYTICS TRAINING\\Data\\Wage.csv\") #r: Raw string literals — treats backslashes literally"
   ]
  },
  {
   "cell_type": "markdown",
   "id": "110546ae",
   "metadata": {
    "id": "nC0xXdBuNcyC"
   },
   "source": [
    "## <font color='orange'> Data Information\n",
    "\n",
    "The DataFrames object has a method called info(), that gives you more information about the data set."
   ]
  },
  {
   "cell_type": "code",
   "execution_count": null,
   "id": "cfb30b6d",
   "metadata": {
    "id": "wtx6WDSJIsNY"
   },
   "outputs": [],
   "source": [
    "print(df)"
   ]
  },
  {
   "cell_type": "code",
   "execution_count": null,
   "id": "8702526b",
   "metadata": {
    "id": "LcLSqQqcNcyC"
   },
   "outputs": [],
   "source": [
    "print(df.info())"
   ]
  },
  {
   "cell_type": "code",
   "execution_count": null,
   "id": "163f692e",
   "metadata": {
    "id": "8PDx59BFVUOr"
   },
   "outputs": [],
   "source": [
    "print(df.dtypes)"
   ]
  },
  {
   "cell_type": "markdown",
   "id": "0f7c70e8-2cab-48d5-b608-04d029769d18",
   "metadata": {
    "id": "nC0xXdBuNcyC"
   },
   "source": [
    "### <font color='pink'>Change the data type for a single / multiple variables"
   ]
  },
  {
   "cell_type": "code",
   "execution_count": null,
   "id": "758f9ff8-d814-4a65-9015-3f18f475fafb",
   "metadata": {},
   "outputs": [],
   "source": [
    "df['maritl'] = df['maritl'].astype('object')\n",
    "\n",
    "df[['race','education']] = df[['race','education']].astype('object')\n",
    "\n",
    "df[['region','jobclass','health','health_ins']] = df[['region','jobclass','health','health_ins']].astype('object')\n",
    "\n",
    "df['year']=df['year'].astype('string')\n",
    "\n",
    "df['ID']=df['ID'].astype('string')"
   ]
  },
  {
   "cell_type": "code",
   "execution_count": null,
   "id": "26b2fb11-58f6-47d1-a9a8-fb841d3c11e4",
   "metadata": {
    "id": "LcLSqQqcNcyC"
   },
   "outputs": [],
   "source": [
    "print(df.info())"
   ]
  },
  {
   "cell_type": "code",
   "execution_count": null,
   "id": "1304d337-9bce-4df9-9886-d03ac0136367",
   "metadata": {
    "id": "8PDx59BFVUOr"
   },
   "outputs": [],
   "source": [
    "print(df.dtypes)"
   ]
  },
  {
   "cell_type": "code",
   "execution_count": null,
   "id": "1ea5592c",
   "metadata": {
    "id": "DOLgiOIAVQi8"
   },
   "outputs": [],
   "source": [
    "print(df.shape)\n",
    "print(df.ndim)\n",
    "print(df.size)"
   ]
  },
  {
   "cell_type": "code",
   "execution_count": null,
   "id": "e5a747da",
   "metadata": {
    "id": "QiGvgqH5I2hd"
   },
   "outputs": [],
   "source": [
    "print(df.head(5))"
   ]
  },
  {
   "cell_type": "code",
   "execution_count": null,
   "id": "114b72b7",
   "metadata": {
    "id": "genbUizXJatf"
   },
   "outputs": [],
   "source": [
    "print(df.tail())\n",
    "print(df.tail(2))"
   ]
  },
  {
   "cell_type": "code",
   "execution_count": null,
   "id": "82885bb3",
   "metadata": {
    "id": "7wq8RGVgI4oE"
   },
   "outputs": [],
   "source": [
    "print(df.columns)    # for reading the headers"
   ]
  },
  {
   "cell_type": "code",
   "execution_count": null,
   "id": "2053a390-8391-44d1-9d4c-0a641a02a6cc",
   "metadata": {},
   "outputs": [],
   "source": [
    "df['race'].unique() #Getting the levels of a categorical data"
   ]
  },
  {
   "cell_type": "code",
   "execution_count": null,
   "id": "e8eec5a1-0ba2-4829-b781-6f65bc64a80d",
   "metadata": {},
   "outputs": [],
   "source": [
    "df.race.value_counts() #counts for levels of a categorical data"
   ]
  },
  {
   "cell_type": "markdown",
   "id": "a790eb67",
   "metadata": {
    "id": "d-demfg7dfpg"
   },
   "source": [
    "### <font color='pink'> changing value of a cell using iat or at"
   ]
  },
  {
   "cell_type": "code",
   "execution_count": null,
   "id": "3e924d18-66c2-48dc-8ea1-5e0cb2fdacbb",
   "metadata": {},
   "outputs": [],
   "source": [
    "print(df.iat[0,2])\n",
    "df.iat[0,2]=555\n",
    "print(df.iat[0,2])"
   ]
  },
  {
   "cell_type": "code",
   "execution_count": null,
   "id": "5ce47097-4ff9-4580-a414-d668ade2fb42",
   "metadata": {},
   "outputs": [],
   "source": [
    "print(df.at[0,'age']) \n",
    "df.at[0,'age']  = 100\n",
    "print(df.at[0,'age']) \n",
    "df.at[2, 'age'] = 200\n",
    "print(df.at[0,'age']) "
   ]
  },
  {
   "cell_type": "markdown",
   "id": "c5541403-591d-4922-abf2-a68ebda04b55",
   "metadata": {
    "id": "d-demfg7dfpg"
   },
   "source": [
    "## <font color='Yellow'> DATA HANDLING\n",
    "\n",
    "## <font color='orange'> Subsetting and Transformations\n",
    "\n",
    "### <font color='pink'> Column Name and / or Indices"
   ]
  },
  {
   "cell_type": "code",
   "execution_count": null,
   "id": "c3867fc3",
   "metadata": {
    "id": "GiQhyrvYJPcY"
   },
   "outputs": [],
   "source": [
    "print(df.age) #Extract the column \"age\""
   ]
  },
  {
   "cell_type": "code",
   "execution_count": null,
   "id": "9632ae13",
   "metadata": {
    "colab": {
     "base_uri": "https://localhost:8080/"
    },
    "id": "ZrRlph6JI8Yw",
    "outputId": "b34a6f3e-9345-4de8-b94d-7a090028acbb"
   },
   "outputs": [],
   "source": [
    "print(df['age'][0:6])    # give the column name for printing all the elements from the chosen rows"
   ]
  },
  {
   "cell_type": "code",
   "execution_count": null,
   "id": "9f233853",
   "metadata": {
    "id": "UsorwkVfJEFY"
   },
   "outputs": [],
   "source": [
    "print(df[['age', 'maritl', 'race']])  # giving multiple column names inside lists - two square brackets"
   ]
  },
  {
   "cell_type": "code",
   "execution_count": null,
   "id": "6e95b9cd-cc27-4cac-9807-f09e0e1cc66d",
   "metadata": {},
   "outputs": [],
   "source": [
    "df.race.value_counts() #Count the number of items in each level of a categorical variable"
   ]
  },
  {
   "cell_type": "markdown",
   "id": "14d13f03",
   "metadata": {
    "id": "r29a-8r2Ncx1"
   },
   "source": [
    "## <font color='orange'> Locate Row\n",
    "\n",
    "A DataFrame is a 2-dimensional table with rows and columns.\n",
    "\n",
    "Pandas use the **loc** attribute to return one or more specified row(s)"
   ]
  },
  {
   "cell_type": "code",
   "execution_count": null,
   "id": "4a98224c",
   "metadata": {
    "id": "NViO1zbdb2Q8"
   },
   "outputs": [],
   "source": [
    "print(df.loc[0]) #Return row 0\n",
    "\n",
    "print(df.loc[[0, 1]]) #Return rows 0 and 1\n",
    "\n",
    "print(df.loc[0:5]) #Return rows 0 to 5 (both inclusive)"
   ]
  },
  {
   "cell_type": "markdown",
   "id": "ec2cbc60",
   "metadata": {
    "id": "ztbR9N_6icFd"
   },
   "source": [
    "## <font color='orange'> *loc* and column names"
   ]
  },
  {
   "cell_type": "code",
   "execution_count": null,
   "id": "fbdb5c0c",
   "metadata": {
    "id": "HScPFy9xiNL4"
   },
   "outputs": [],
   "source": [
    "singcol=df.loc[0:5]['age']\n",
    "print(singcol)\n",
    "print(type(singcol))"
   ]
  },
  {
   "cell_type": "code",
   "execution_count": null,
   "id": "3b12bbfb",
   "metadata": {},
   "outputs": [],
   "source": [
    "df.loc[0:5][['age','race']] #Multiple columns"
   ]
  },
  {
   "cell_type": "markdown",
   "id": "908cf891",
   "metadata": {
    "id": "wdm6XVfli7Vu"
   },
   "source": [
    "## <font color='orange'> Usage of *iloc*\n",
    "\n",
    "*iloc* is used to access data by row and column indices as **integers**\n",
    "\n",
    "Syntax: df.iloc[row_index, column_index]\n",
    "\n",
    "The row and column indices must be integers"
   ]
  },
  {
   "cell_type": "code",
   "execution_count": null,
   "id": "80ab0870",
   "metadata": {
    "id": "jUPZl7qPJeUP"
   },
   "outputs": [],
   "source": [
    "print(df.iloc[2:6])  # print elements from specified range"
   ]
  },
  {
   "cell_type": "code",
   "execution_count": null,
   "id": "abd82ada",
   "metadata": {
    "id": "p2NgumdDKhTP"
   },
   "outputs": [],
   "source": [
    "print(df.iloc[2:6, 1]) # Extract the required index / column\n",
    "\n",
    "print(df.iloc[2:6,1:3])"
   ]
  },
  {
   "cell_type": "code",
   "execution_count": null,
   "id": "bfe1e4be",
   "metadata": {
    "id": "2wB_40gmJrhP"
   },
   "outputs": [],
   "source": [
    "print(df.iloc[2, 1])    # Extract 3rd row and 2nd column - passing index (rows) and column numbers as arguments"
   ]
  },
  {
   "cell_type": "markdown",
   "id": "1c4729c0",
   "metadata": {
    "id": "A-zp0OEHLafX"
   },
   "source": [
    "## <font color='orange'> Difference between iloc and loc"
   ]
  },
  {
   "cell_type": "code",
   "execution_count": null,
   "id": "ccd84bf0",
   "metadata": {},
   "outputs": [],
   "source": [
    "eg_df = pd.DataFrame({\n",
    "    'SNo': [101, 102, 103],\n",
    "    'Mark': [45, 84, 63]}, \n",
    "    index=['S1', 'S2', 'S3']) \n",
    "eg_df"
   ]
  },
  {
   "cell_type": "code",
   "execution_count": null,
   "id": "f103a18b",
   "metadata": {},
   "outputs": [],
   "source": [
    "eg_df.iloc[1, 1] #Extract 2nd row and 2nd column - indices are integers"
   ]
  },
  {
   "cell_type": "code",
   "execution_count": null,
   "id": "21623727",
   "metadata": {},
   "outputs": [],
   "source": [
    "eg_df.loc[\"S2\", \"Mark\"] #Labels are used to extract "
   ]
  },
  {
   "cell_type": "markdown",
   "id": "fd844d15",
   "metadata": {
    "id": "A-zp0OEHLafX"
   },
   "source": [
    "## <font color='orange'> Selected Rows, all Columns OR Selected Columns, all Rows                        "
   ]
  },
  {
   "cell_type": "code",
   "execution_count": null,
   "id": "66c3ea16",
   "metadata": {
    "id": "MhVS4DhRLMVR"
   },
   "outputs": [],
   "source": [
    "print(df.iloc[2:6,:])\n",
    "\n",
    "print(df.iloc[ :,0:2])"
   ]
  },
  {
   "cell_type": "code",
   "execution_count": null,
   "id": "ab96ed25",
   "metadata": {
    "id": "F1t-E2O8J-6A"
   },
   "outputs": [],
   "source": [
    "for index, row in df.iterrows():            #Iterate over DataFrame rows\n",
    "  print(index, row['age'])   # or just put print(index, row)"
   ]
  },
  {
   "cell_type": "markdown",
   "id": "6c595578",
   "metadata": {
    "id": "g86Fv75sRwI9"
   },
   "source": [
    "## <font color='orange'> Filter (subset) using *loc*"
   ]
  },
  {
   "cell_type": "code",
   "execution_count": null,
   "id": "3fac8603",
   "metadata": {
    "id": "cFneSkxCN2UO"
   },
   "outputs": [],
   "source": [
    "df.loc[df['race']=='1. White']"
   ]
  },
  {
   "cell_type": "code",
   "execution_count": null,
   "id": "edf4a224",
   "metadata": {
    "id": "raxdgHOwTDF-"
   },
   "outputs": [],
   "source": [
    "df.loc[(df['race']=='1. White')| (df['race']=='2. Black')] # Usage of or logic - \"|\""
   ]
  },
  {
   "cell_type": "code",
   "execution_count": null,
   "id": "b00ef061",
   "metadata": {
    "id": "T-4-cUmwTD3c"
   },
   "outputs": [],
   "source": [
    "df.loc[(df['race']=='1. White')& (df['age']%3!=0)] # Usage of and logic - \"&\""
   ]
  },
  {
   "cell_type": "code",
   "execution_count": null,
   "id": "fff87869",
   "metadata": {
    "id": "LXkV0GCoTgpG"
   },
   "outputs": [],
   "source": [
    "df.loc[(df['race']=='1. White')& (df['age']%2==0)]"
   ]
  },
  {
   "cell_type": "code",
   "execution_count": null,
   "id": "91c1d739",
   "metadata": {
    "id": "j22I3sxTTlYb"
   },
   "outputs": [],
   "source": [
    "df.loc[((df['race']=='1. White')|(df['race']=='2. Black')) & (df['age']%20==0)]"
   ]
  },
  {
   "cell_type": "markdown",
   "id": "da61412c",
   "metadata": {
    "id": "cQfJtENBGm9I"
   },
   "source": [
    "## <font color='orange'> *loc* within a column\n",
    "\n",
    "Filtering can be done on a single or multiple columns conditioned on other columns"
   ]
  },
  {
   "cell_type": "code",
   "execution_count": null,
   "id": "d0fe7bee",
   "metadata": {
    "colab": {
     "base_uri": "https://localhost:8080/"
    },
    "id": "CgrqqmBe1MO1",
    "outputId": "026d787f-1a51-4938-8267-6221573bfda8"
   },
   "outputs": [],
   "source": [
    "ex1=df.loc[(df['age']%8==0)&(df['age']>24)&(df['wage']<1000)] #Whole data set\n",
    "\n",
    "print(ex1)"
   ]
  },
  {
   "cell_type": "code",
   "execution_count": null,
   "id": "1ae23003",
   "metadata": {
    "colab": {
     "base_uri": "https://localhost:8080/"
    },
    "id": "CgrqqmBe1MO1",
    "outputId": "026d787f-1a51-4938-8267-6221573bfda8"
   },
   "outputs": [],
   "source": [
    "ex2=df['race'].loc[(df['age']%2==0)&(df['age']>10)&(df['wage']<1000)] #Only one column\n",
    "\n",
    "print(ex2)\n",
    "print(ex2.unique())"
   ]
  },
  {
   "cell_type": "code",
   "execution_count": null,
   "id": "1573a8ae",
   "metadata": {
    "id": "VIE_joNGHP5-"
   },
   "outputs": [],
   "source": [
    "df[['race','maritl']].loc[(df['wage']<1000)&(df['age']>25)]"
   ]
  },
  {
   "cell_type": "code",
   "execution_count": null,
   "id": "defb7532",
   "metadata": {
    "id": "3C98cVQ016fd"
   },
   "outputs": [],
   "source": [
    "df.loc[df['cycle']%28==0]"
   ]
  },
  {
   "cell_type": "markdown",
   "id": "64c41e35",
   "metadata": {
    "id": "z4dTFtGWew6a"
   },
   "source": [
    "## <font color='orange'>Sort a DF based on a column"
   ]
  },
  {
   "cell_type": "code",
   "execution_count": null,
   "id": "d13624e8",
   "metadata": {
    "id": "QrZeMirdPJkv"
   },
   "outputs": [],
   "source": [
    "df.sort_values('race', ascending = False) #default: True"
   ]
  },
  {
   "cell_type": "markdown",
   "id": "b5ed2ab3-16f6-472f-b8e8-a333b30393c7",
   "metadata": {},
   "source": [
    "### <font color='pink'> sorting by one or more columns"
   ]
  },
  {
   "cell_type": "code",
   "execution_count": null,
   "id": "b1295711-d1a5-49b6-ae87-5a1b670ea861",
   "metadata": {},
   "outputs": [],
   "source": [
    "df_sort1=df.sort_values(by=['race'])\n",
    "df_sort1.head()"
   ]
  },
  {
   "cell_type": "code",
   "execution_count": null,
   "id": "c909724e-2246-4bdd-b5a2-afba451b27e5",
   "metadata": {},
   "outputs": [],
   "source": [
    "df_sort2=df.sort_values(by=['race','age'])\n",
    "df_sort2.head()"
   ]
  },
  {
   "cell_type": "code",
   "execution_count": null,
   "id": "6af45966-bd19-4b9c-8670-fee16120fcef",
   "metadata": {},
   "outputs": [],
   "source": [
    "df_sort3=df.sort_values(by=['age','race'], ascending = False)\n",
    "df_sort3.head(20)"
   ]
  },
  {
   "cell_type": "code",
   "execution_count": null,
   "id": "2a739094-9239-4147-a0df-571d6880f1b8",
   "metadata": {},
   "outputs": [],
   "source": [
    "df_sort3=df.sort_values(by=['age','wage'], ascending = [True,False])\n",
    "df_sort3.head(20)"
   ]
  },
  {
   "cell_type": "markdown",
   "id": "21d5cc82",
   "metadata": {
    "id": "9wSkiDjLgESo"
   },
   "source": [
    "## <font color='orange'> Creating a new column\n",
    "\n",
    "### <font color='pink'> Addition of existing two numeric columns"
   ]
  },
  {
   "cell_type": "code",
   "execution_count": null,
   "id": "3f395213",
   "metadata": {
    "id": "BUpSUCi8f7kH"
   },
   "outputs": [],
   "source": [
    "df['Total'] = df['wage'] + df['logwage']\n",
    "print(df['Total'])"
   ]
  },
  {
   "cell_type": "code",
   "execution_count": null,
   "id": "ec01e3bf",
   "metadata": {
    "id": "BUpSUCi8f7kH"
   },
   "outputs": [],
   "source": [
    "#Alternately, use column index\n",
    "df1=df.iloc[:, 10]+df.iloc[:, 11]\n",
    "print(df1)"
   ]
  },
  {
   "cell_type": "code",
   "execution_count": null,
   "id": "a7ee5886",
   "metadata": {
    "id": "BUpSUCi8f7kH"
   },
   "outputs": [],
   "source": [
    "#or\n",
    "df2=df['Total'] = df.iloc[:, 10:12].sum(axis=1)\n",
    "print(df1)"
   ]
  },
  {
   "cell_type": "markdown",
   "id": "ea2fd72b-e442-4d68-bd96-d39c1b5f2884",
   "metadata": {},
   "source": [
    "### <font color='pink'> Using lambda function"
   ]
  },
  {
   "cell_type": "code",
   "execution_count": null,
   "id": "f88e27d3-653f-4f5e-a414-ff6da9181e0e",
   "metadata": {},
   "outputs": [],
   "source": [
    "file1 = pd.DataFrame({\n",
    "    'name': ['Amba','Baskar','Charlie','Darwin'],\n",
    "    'age': [25,66,56,78]\n",
    "})"
   ]
  },
  {
   "cell_type": "code",
   "execution_count": null,
   "id": "2adc3f32-4644-43db-90c8-5905077a41a6",
   "metadata": {},
   "outputs": [],
   "source": [
    "file1.assign(\n",
    "    is_senior = lambda dataframe: dataframe['age'].map(lambda x: \"Senior\" if x >= 65 else \"NonSenior\"),\n",
    "    is_senior1 = lambda dataframe: dataframe['age'].map(lambda x: True if x >= 65 else False)\n",
    ")"
   ]
  },
  {
   "cell_type": "code",
   "execution_count": null,
   "id": "e3b63b76-511a-4c71-8e6e-f33c93415b3a",
   "metadata": {},
   "outputs": [],
   "source": [
    "file1.assign(\n",
    "    is_senior = lambda dataframe: dataframe['age'].map(lambda age: True if age >= 65 else False) ,\n",
    "    ).assign(\n",
    "    name_uppercase = lambda dataframe: dataframe['name'].map(lambda name: name.upper()),\n",
    "    ).assign(\n",
    "    name_uppercase_double = lambda dataframe: dataframe['name_uppercase'].map(lambda name: name.upper()+\"-\"+name.upper()))"
   ]
  },
  {
   "cell_type": "code",
   "execution_count": null,
   "id": "4814e0ff",
   "metadata": {},
   "outputs": [],
   "source": [
    "#Generate a subset of a DF  \n",
    "rr=np.random.choice(np.arange(100, 226), size=5, replace=False) #randomly generate numbers without replacement\n",
    "print(rr)\n",
    "df_1=df[df.index.isin(rr)]\n",
    "print(df_1)"
   ]
  },
  {
   "cell_type": "markdown",
   "id": "e009df2a",
   "metadata": {
    "id": "QlL3VeK9ZWKj"
   },
   "source": [
    "## <font color='orange'> Named Index in a DF"
   ]
  },
  {
   "cell_type": "code",
   "execution_count": null,
   "id": "82c718ab-642a-4530-aac0-a5c4b3d5c734",
   "metadata": {
    "id": "4JuN6CO-Ncx5"
   },
   "outputs": [],
   "source": [
    "#recall this df created earlier\n",
    "data = {\n",
    "  \"calories\": [420, 380, 390],\n",
    "  \"duration\": [50, 40, 45]\n",
    "}\n",
    "EX = pd.DataFrame(data, index = [\"day1\", \"day2\", \"day3\"])\n",
    "print(EX)"
   ]
  },
  {
   "cell_type": "code",
   "execution_count": null,
   "id": "094db686",
   "metadata": {
    "id": "ryL7ssBjNcx8"
   },
   "outputs": [],
   "source": [
    "print(EX.loc[\"day2\"])\n",
    "\n",
    "print(EX.loc[[\"day2\",'day3']])"
   ]
  },
  {
   "cell_type": "markdown",
   "id": "944ba6ad-dc06-4c7c-be36-62b18e2de8c9",
   "metadata": {
    "id": "QlL3VeK9ZWKj"
   },
   "source": [
    "## <font color='orange'> Transpose of a DF"
   ]
  },
  {
   "cell_type": "code",
   "execution_count": 57,
   "id": "61022585",
   "metadata": {},
   "outputs": [
    {
     "name": "stdout",
     "output_type": "stream",
     "text": [
      "    Income  Age  Gender  Balance\n",
      "0   14.891   34    Male      333\n",
      "1  106.025   82  Female      903\n",
      "2  104.593   71    Male      580\n",
      "3  148.924   36  Female      964\n",
      "4   55.882   68    Male      331\n",
      "              0        1        2        3       4\n",
      "Income   14.891  106.025  104.593  148.924  55.882\n",
      "Age          34       82       71       36      68\n",
      "Gender     Male   Female     Male   Female    Male\n",
      "Balance     333      903      580      964     331\n"
     ]
    }
   ],
   "source": [
    "credit1 = {'Income': [14.891, 106.025, 104.593, 148.924,  55.882],\n",
    "        'Age': [34, 82, 71, 36, 68],\n",
    "        'Gender': [\"Male\",  \"Female\",  \"Male\", \"Female\",  \"Male\"],\n",
    "        'Balance': [333, 903, 580, 964, 331]}\n",
    "\n",
    "credit = pd.DataFrame(credit1)\n",
    "\n",
    "pd.options.display.max_rows = None #Can set the number of columns to print\n",
    "\n",
    "print(credit)\n",
    "\n",
    "print(credit.T)"
   ]
  },
  {
   "cell_type": "markdown",
   "id": "6edf0759-e318-4acb-9a31-468fad0a9b82",
   "metadata": {
    "id": "QlL3VeK9ZWKj"
   },
   "source": [
    "## <font color='orange'> Dropping columns / rows"
   ]
  },
  {
   "cell_type": "code",
   "execution_count": null,
   "id": "5a45cbbf-3ecb-4baf-b6e7-d313e3cd3cf0",
   "metadata": {},
   "outputs": [],
   "source": [
    "drop_col=['Age','Gender']\n",
    "\n",
    "cr_dropped=credit.drop(columns=drop_col,index = [0,1])\n",
    "\n",
    "print(cr_dropped)"
   ]
  },
  {
   "cell_type": "markdown",
   "id": "37239657-3b70-4435-b9c9-676cf4bf96e9",
   "metadata": {
    "id": "QlL3VeK9ZWKj"
   },
   "source": [
    "## <font color='orange'> Rename the columns and index (row names)"
   ]
  },
  {
   "cell_type": "code",
   "execution_count": null,
   "id": "b93e0b46-fbdd-4d27-931f-14a02392d1b3",
   "metadata": {},
   "outputs": [],
   "source": [
    "cr=credit.rename(columns={\"Income\": \"In\", \"Age\": \"Ag\", \"Gender\": \"Ge\",\"Balance\":\"Ba\"})\n",
    "print(cr.columns)"
   ]
  },
  {
   "cell_type": "code",
   "execution_count": null,
   "id": "79f52376-dc09-4819-a185-e35cbf9fb87b",
   "metadata": {},
   "outputs": [],
   "source": [
    "credit.T.rename(index={\"Income\": \"In\", \"Age\": \"Ag\", \"Gender\": \"Ge\",\"Balance\":\"Ba\"})"
   ]
  },
  {
   "cell_type": "code",
   "execution_count": null,
   "id": "f0224d84-6323-4c1d-98c4-edd8ddf3ff48",
   "metadata": {},
   "outputs": [],
   "source": [
    "credit.rename(index={0: \"R0\", 1: 'R1',2: 'R2', 3: 'R3',4:\"R4\",5:\"R5\"})"
   ]
  },
  {
   "cell_type": "markdown",
   "id": "8cead25c-407f-4ea3-b246-93d7979ff32a",
   "metadata": {
    "id": "QlL3VeK9ZWKj"
   },
   "source": [
    "## <font color='orange'> Reorder the columns and index (row names)"
   ]
  },
  {
   "cell_type": "code",
   "execution_count": null,
   "id": "9ec84195-c933-423c-837d-c33166c98f1e",
   "metadata": {},
   "outputs": [],
   "source": [
    "new_col_order = ['Age', 'Income']\n",
    "\n",
    "print(credit[new_col_order])"
   ]
  },
  {
   "cell_type": "code",
   "execution_count": null,
   "id": "6cb7f733-ec9d-457d-8c8a-37a2a591a161",
   "metadata": {},
   "outputs": [],
   "source": [
    "new_col_order = ['Gender', 'Age', 'Income','Balance']\n",
    "\n",
    "print(credit[new_col_order])"
   ]
  },
  {
   "cell_type": "code",
   "execution_count": null,
   "id": "f386b8b1-9067-49cb-9dcb-0a16ae2e7fcf",
   "metadata": {},
   "outputs": [],
   "source": [
    "new_ind_order = [0,2,3,4,1]\n",
    "credit_ind_reord = credit.loc[new_ind_order]\n",
    "print(credit_ind_reord)"
   ]
  },
  {
   "cell_type": "markdown",
   "id": "09dce4de-4209-4e8f-a7e4-9db45313fcee",
   "metadata": {
    "id": "QlL3VeK9ZWKj"
   },
   "source": [
    "## <font color='orange'> Limit the number of rows / columns to print"
   ]
  },
  {
   "cell_type": "code",
   "execution_count": null,
   "id": "a7a93ccf-00cf-4280-8baf-c864ec10e36e",
   "metadata": {},
   "outputs": [],
   "source": [
    "pd.options.display.max_rows = 2 \n",
    "pd.options.display.max_columns = 2\n",
    "\n",
    "print(credit)\n",
    "\n",
    "print(credit.T)"
   ]
  },
  {
   "cell_type": "markdown",
   "id": "641ff41d-1f9f-4ec1-97d8-48f37be792af",
   "metadata": {
    "id": "QlL3VeK9ZWKj"
   },
   "source": [
    "## <font color='orange'> Creating a column using assign()"
   ]
  },
  {
   "cell_type": "code",
   "execution_count": null,
   "id": "fbae75fc-300f-4ca8-9595-bd3b9a482734",
   "metadata": {},
   "outputs": [],
   "source": [
    "credit_1=credit.assign(b_a=(credit.Balance/credit.Age))\n",
    "print(credit_1)"
   ]
  },
  {
   "cell_type": "markdown",
   "id": "4d96fa38-bca6-4169-b181-5c4b635f4239",
   "metadata": {
    "id": "QlL3VeK9ZWKj"
   },
   "source": [
    "## <font color='orange'>  Adding rows of a DF using concat()"
   ]
  },
  {
   "cell_type": "code",
   "execution_count": 60,
   "id": "41c04b2b-eef5-429a-8b4b-70c5e4497941",
   "metadata": {},
   "outputs": [
    {
     "name": "stdout",
     "output_type": "stream",
     "text": [
      "     Income  Age  Gender  Balance\n",
      "0    14.891   34    Male      333\n",
      "1   106.025   82  Female      903\n",
      "2   104.593   71    Male      580\n",
      "3   148.924   36  Female      964\n",
      "4    55.882   68    Male      331\n",
      "n1   58.000   67    Male      500\n",
      "n2   37.000   28  Female      900\n"
     ]
    }
   ],
   "source": [
    "credit2 = pd.DataFrame([[58, 67,\"Male\",500], [37, 28,\"Female\",900]],columns=list(credit.columns),index=[\"n1\",\"n2\"])\n",
    "credit3=pd.concat([credit, credit2], ignore_index=False)\n",
    "print(credit3)"
   ]
  },
  {
   "cell_type": "markdown",
   "id": "5a17419b-6f94-4a1f-9227-cc717ef5eb04",
   "metadata": {
    "id": "QlL3VeK9ZWKj"
   },
   "source": [
    "## <font color='orange'>  Conditional subset"
   ]
  },
  {
   "cell_type": "code",
   "execution_count": null,
   "id": "fd645054-946d-4cfe-a93c-1387b694ca92",
   "metadata": {},
   "outputs": [],
   "source": [
    "print(credit.loc[credit.Age < 40])\n",
    "\n",
    "print(\"only one column\")\n",
    "print(credit.loc[credit.Age < 40,'Age'])\n",
    "\n",
    "print(\"More than one column\")\n",
    "print(credit.loc[credit.Age < 40,['Balance',\"Gender\"]])"
   ]
  },
  {
   "cell_type": "code",
   "execution_count": null,
   "id": "bbc05d6a-ad6e-4cd8-8f27-c195b6244259",
   "metadata": {},
   "outputs": [],
   "source": [
    "#Categorical data\n",
    "credit[credit.Gender == 'Male']"
   ]
  },
  {
   "cell_type": "code",
   "execution_count": null,
   "id": "ce52dfe7-cea6-4fc6-b0a7-86af0d62262d",
   "metadata": {},
   "outputs": [],
   "source": [
    "#Categorical data\n",
    "df[df['Gender'].isin(['Male'])]"
   ]
  },
  {
   "cell_type": "code",
   "execution_count": null,
   "id": "ac2ca407-e116-406a-8bca-6cd2b5a10f39",
   "metadata": {},
   "outputs": [],
   "source": [
    "#Categorical data\n",
    "df[df['race'].isin(['1. White', '3. Asian'])]"
   ]
  },
  {
   "cell_type": "markdown",
   "id": "f093be43-b902-4288-8044-613fc7dd22d9",
   "metadata": {
    "id": "QlL3VeK9ZWKj"
   },
   "source": [
    "## <font color='orange'>  Replace existing value of a column by a new value "
   ]
  },
  {
   "cell_type": "code",
   "execution_count": null,
   "id": "3643816d-a14f-4c15-b784-0005d090ec30",
   "metadata": {},
   "outputs": [],
   "source": [
    "credit['Gender'].replace({'M': 'm', 'Female': 'F'}, inplace=True)\n",
    "print(credit)"
   ]
  },
  {
   "cell_type": "markdown",
   "id": "8b449438-8ba2-4881-a2da-da0705b3dc30",
   "metadata": {
    "id": "QlL3VeK9ZWKj"
   },
   "source": [
    "## <font color='orange'>  Changing the rows and column names - Existing DF"
   ]
  },
  {
   "cell_type": "code",
   "execution_count": null,
   "id": "3cca4382-b22c-4c28-9129-e5e7bd7aca9c",
   "metadata": {},
   "outputs": [],
   "source": [
    "credit.index=list(\"ABCDE\")\n",
    "print(credit)\n",
    "\n",
    "credit.index=['R1','R2','R3','R4','R5']\n",
    "print(credit)\n",
    "\n",
    "\n",
    "credit.columns=['happy','sad','normal','angry']\n",
    "print(credit)"
   ]
  },
  {
   "cell_type": "code",
   "execution_count": null,
   "id": "3fe938f4",
   "metadata": {},
   "outputs": [],
   "source": [
    "# For a new DF - default index and column \n",
    "\n",
    "somenum=np.random.randn(5,4)\n",
    "\n",
    "dafr=pd.DataFrame(somenum)\n",
    "print(dafr)\n",
    "\n",
    "# For a new DF - user defined index and column \n",
    "\n",
    "dafr1 = pd.DataFrame(somenum, index=list(\"ABCDE\"), columns=['happy','sad','normal','angry'])\n",
    "print(dafr1)"
   ]
  },
  {
   "cell_type": "markdown",
   "id": "5bb927a7-09b9-48d8-8d26-73ba82b76fbc",
   "metadata": {},
   "source": [
    "### <font color='pink'> Writing to a csv"
   ]
  },
  {
   "cell_type": "code",
   "execution_count": null,
   "id": "a6bf9b53",
   "metadata": {},
   "outputs": [],
   "source": [
    "dafr1.to_csv('E:\\\\testEG.csv', index = None, header=True)\n",
    "dafr1.to_csv('E:\\\\testEG2.csv', index = True, header=True)\n",
    "dafr1.to_csv('E:\\\\testEG3.csv', index = True, header=False)"
   ]
  },
  {
   "cell_type": "markdown",
   "id": "5dac0aa6-7acf-4aa5-82af-8a8073154b54",
   "metadata": {
    "id": "QlL3VeK9ZWKj"
   },
   "source": [
    "## <font color='orange'>  Missing Values - A Quick Introduction"
   ]
  },
  {
   "cell_type": "code",
   "execution_count": null,
   "id": "f7c33a16",
   "metadata": {},
   "outputs": [],
   "source": [
    "df_mv=pd.read_csv(r\"E:\\ANALYTICS TRAINING\\Data\\dat_MissVal.csv\")\n",
    "df_mv"
   ]
  },
  {
   "cell_type": "markdown",
   "id": "e18a5734-75fc-4ed5-9474-711efdae2be5",
   "metadata": {},
   "source": [
    "### <font color='pink'> Identify the location / size of MVs"
   ]
  },
  {
   "cell_type": "code",
   "execution_count": null,
   "id": "c60cc435-fb3e-410e-be2d-048e617fcd43",
   "metadata": {},
   "outputs": [],
   "source": [
    "na1=np.where(pd.isnull(df_mv))\n",
    "\n",
    "print(na1)\n",
    "\n",
    "for row, col in zip(na1[0], na1[1]):\n",
    "    print(f\"Row {row}, Column {df_mv.columns[col]}\")\n",
    "    \n",
    "#number of Missing values\n",
    "print(np.array(na1[0]).size)\n",
    "\n",
    "print(np.array(na1).size)\n",
    "\n",
    "print(len(na1))"
   ]
  },
  {
   "cell_type": "code",
   "execution_count": null,
   "id": "1dc300af-2b6e-48bb-9c15-dbb12f3131a4",
   "metadata": {},
   "outputs": [],
   "source": [
    "df_mv[\"A\"].mean()"
   ]
  },
  {
   "cell_type": "code",
   "execution_count": null,
   "id": "815741e3-0113-4677-aef8-e6d12956e4d6",
   "metadata": {},
   "outputs": [],
   "source": [
    "df_mv.mean(skipna=False)"
   ]
  },
  {
   "cell_type": "code",
   "execution_count": null,
   "id": "59121af1-1250-4a62-a531-51a8cfcec74a",
   "metadata": {},
   "outputs": [],
   "source": [
    "df_mv.isna()"
   ]
  },
  {
   "cell_type": "code",
   "execution_count": null,
   "id": "c051d28b-cf0b-4896-8c01-dc9ccb2ac35d",
   "metadata": {},
   "outputs": [],
   "source": [
    "df_mv.dropna()"
   ]
  },
  {
   "cell_type": "code",
   "execution_count": null,
   "id": "d187613d",
   "metadata": {},
   "outputs": [],
   "source": [
    "df_mv.fillna(value = 5)"
   ]
  },
  {
   "cell_type": "markdown",
   "id": "aabcdae4-73e2-4ef4-9f33-4ad8ce4022da",
   "metadata": {},
   "source": [
    "# <font color = yellow> Summary PANDAS Major Functions\n",
    "\n",
    "## <font color = 'orange'> Import libraries **pandas as pd** and **numpy as np**\n",
    "\n",
    "1. <font color = 'pink'>**Loading a data set in csv (as a DataFrame,df)**\n",
    "\n",
    "      read_csv()\n",
    "\n",
    "1. <font color = 'pink'>**Know the structure**\n",
    "\n",
    "      df.shape (df.size, optional,dimension for rectangular data is always 2)\n",
    "\n",
    "1. <font color = 'pink'>**Know the names of columns**\n",
    "\n",
    "      df.columns\n",
    "\n",
    "1. <font color = 'pink'>**To view few rows**\n",
    "\n",
    "      * df\n",
    "      * df.head()\n",
    "      * df.tail()\n",
    "      \n",
    "        - inside ( ) type any positive integer to get as many rows\n",
    "\n",
    "1. <font color = 'pink'>**Know the structure of DF (nature of variables)**\n",
    "\n",
    "      df. dtypes (df.info(verbose=True) is optional)\n",
    "\n",
    "    Major Data types\n",
    "\n",
    "      * float64\n",
    "      * int64\n",
    "      * category\n",
    "      * object\n",
    "\n",
    "1. <font color = 'pink'>**Change the nature of a variable**\n",
    "\n",
    "      df['column'] = df['column'].astype( )\n",
    "\n",
    "1. <font color = 'pink'>**Know the presence of *NA* or *NaN***\n",
    "      * pd.isna(df)\n",
    "      * pd.isnull(df)\n",
    "      * df.isna()\n",
    "      * df.isnull()\n",
    "      \n",
    "  To know the row / column indices - presence of NA\n",
    "      * np.where(pd.isna(ecg_data))\n",
    "\n",
    "  Row / column indices - presence of NA as a DF\n",
    "      * pd.DataFrame(list( ),index=[\"R\",\"C\"]).T\n",
    "\n",
    "        *R and C are column names and T is to transpose*\n",
    "\n",
    "1. <font color = 'pink'>**To *sort* by columns**\n",
    "      \n",
    "      df.sort_values(by=['C1','C2],axis=0, ascending=True, na_position= ‘last’)\n",
    "\n",
    "1. <font color = 'pink'>**To *sort* by rows**      \n",
    "      \n",
    "      df.sort_values(by=index values,axis=1, ascending=True, na_position= ‘last’), index values are row names\n",
    "\n",
    "1. <font color = 'pink'>**To *change* the nature of a variable**\n",
    "      \n",
    "      df.select_dtypes(' ') - inside (' ') type the required nature (like float64)\n",
    "\n",
    "1. <font color = 'pink'>**To *count* based on distinct value (numeric) or distinct level of a categorical variable**\n",
    "\n",
    "      df.C.value_counts() - C is the name of the column (variable) to count\n",
    "\n",
    "1. <font color = 'pink'>**To *replace* a value**\n",
    "      \n",
    "      df.replace(existing value,new value)\n",
    "\n",
    "1. <font color = 'pink'>**To *create* a new variable**\n",
    "\n",
    "      df['new variable'] = any suitable operations (changes can be made in a same variable, instead of *new variable* use the existing variable name)\n",
    "\n",
    "1. <font color = 'pink'>**Conditionally create a column (variable)**  \n",
    "\n",
    "### using if, elif, else\n",
    "\n",
    "for i in df.index:\n",
    "  \n",
    "    if (df.loc[i,\"column\"] condition 2):\n",
    "      df.loc[i,'new column']=value 1\n",
    "    elif((df.loc[i,\"column\"] condition 2) & (df.loc[i,\"new_column\"] condition 3)):\n",
    "      df.loc[i,'new_column']=value 2\n",
    "    else:\n",
    "      df.loc[i,'new column']= value 3\n",
    "\n",
    "### Using conditions and choices and np.select\n",
    "\n",
    "conditions = [(df[\"column\"].condition 1),\n",
    "    (df[\"column\"].condition 2 & df[\"column\"].condition 3),\n",
    "    (df[\"column\"].condition 4]\n",
    "    \n",
    "choices = [value 1, value 2]\n",
    "    \n",
    "df[\"new column\"] = np.select(conditions, choices)\n",
    "\n",
    "\n",
    "### Using np.where\n",
    "\n",
    "    df['new column']=np.where((df[\"column\"]condition 1),value 1,\n",
    "\n",
    "                    np.where((df['column'] condition 2) & (df['column'] condition 3), value 2,\n",
    "\n",
    "                   'value 3'))\n",
    "\n",
    "### Remark - while  adding columns conditionally\n",
    "\n",
    "<font color=\"pink\"> condition 1,2,3... may be the required logical (lt(10), ge(10), == etc) expressions the esixting column would satisfy\n",
    "\n",
    "<font color=\"pink\"> Value 1, 2.. are corresponding numeric or string values the new column will assume  (nmeric or string uniformly)\n",
    "\n",
    "<font color=\"pink\"> df[\"new column\"].value_counts(sort=False) to get the counts as per the order of definition\n",
    "\n",
    "1. <font color = 'pink'> **Subset / Slicing /Filtering**\n",
    "      \n",
    "      d1[1,2] - First row and 3rd column\n",
    "\n",
    "      d1.iloc[0:2,] - first two rows and all columns\n",
    "\n",
    "      d1.iloc[2:,] - all the rows from third row and all columns\n",
    "\n",
    "      d1.iloc[:,1] - second column and all rows\n",
    "\n",
    "      ### Conditional (usage of \"&\", \"|\" (and , or))\n",
    "      \n",
    "      df.loc[(df['var'] >= ) & (df['var'] < )| (df['var]== )]"
   ]
  }
 ],
 "metadata": {
  "kernelspec": {
   "display_name": "Python 3 (ipykernel)",
   "language": "python",
   "name": "python3"
  },
  "language_info": {
   "codemirror_mode": {
    "name": "ipython",
    "version": 3
   },
   "file_extension": ".py",
   "mimetype": "text/x-python",
   "name": "python",
   "nbconvert_exporter": "python",
   "pygments_lexer": "ipython3",
   "version": "3.13.0"
  }
 },
 "nbformat": 4,
 "nbformat_minor": 5
}
