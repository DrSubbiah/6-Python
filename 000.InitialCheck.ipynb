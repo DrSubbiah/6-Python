{
 "cells": [
  {
   "cell_type": "code",
   "execution_count": null,
   "metadata": {},
   "outputs": [],
   "source": [
    "%pwd"
   ]
  },
  {
   "cell_type": "code",
   "execution_count": null,
   "metadata": {},
   "outputs": [],
   "source": [
    "pip list"
   ]
  },
  {
   "cell_type": "code",
   "execution_count": null,
   "metadata": {},
   "outputs": [],
   "source": [
    "from platform import python_version\n",
    "\n",
    "print(python_version())"
   ]
  },
  {
   "cell_type": "code",
   "execution_count": 1,
   "metadata": {},
   "outputs": [],
   "source": [
    "#temporary directory changes (optional)\n",
    "import os\n",
    "os.chdir(r\"E:\\ANALYTICS TRAINING\\PYTHON\")"
   ]
  },
  {
   "cell_type": "markdown",
   "metadata": {},
   "source": [
    "# <font color='yellow'> Steps to Change the Jupyter Start Directory:\n",
    "\n",
    "Open a terminal or command prompt and run the following command to generate the Jupyter configuration file: in the cmd type\n",
    "jupyter notebook --generate-config (choose N)\n",
    "\n",
    "Then type in command prompt C:\\Users\\Subbi.DESKTOP-L4TAD5C\\.jupyter\\jupyter_notebook_config.py (path of the file)\n",
    "\n",
    "Look for the line `c.NotebookApp.notebook_dir = ''` (it may be commented out by default)\n",
    "\n",
    "Uncomment this line and set it to your desired path: `c.NotebookApp.notebook_dir = 'E:\\\\ANALYTICS TRAINING\\\\PYTHON'`  (for example) \n",
    "\n",
    "After making the changes, save the file and close the editor.\n",
    "\n",
    "Restart Jupyter Notebook\n",
    "\n",
    "Now, when you launch Jupyter Notebook, it should start in the directory you specified (E:\\ANALYTICS TRAINING\\PYTHON)."
   ]
  }
 ],
 "metadata": {
  "kernelspec": {
   "display_name": "Python 3 (ipykernel)",
   "language": "python",
   "name": "python3"
  },
  "language_info": {
   "codemirror_mode": {
    "name": "ipython",
    "version": 3
   },
   "file_extension": ".py",
   "mimetype": "text/x-python",
   "name": "python",
   "nbconvert_exporter": "python",
   "pygments_lexer": "ipython3",
   "version": "3.13.0"
  }
 },
 "nbformat": 4,
 "nbformat_minor": 4
}
